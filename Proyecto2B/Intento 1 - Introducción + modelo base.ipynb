{
 "cells": [
  {
   "attachments": {},
   "cell_type": "markdown",
   "metadata": {},
   "source": [
    "# Resumen del trabajo realizado\n",
    "Este notebook incluye la construcción y desarrollo de nuestra red clasificadora base. Los otros notebooks que adjuntamos incluyen diferentes intentos para mejorar el accuracy en el set de validación. \n",
    "\n",
    "Para poder **comparar los distintos intentos con igual criterio**, la regla seguida ha sido parar el entrenamiento cuando se cumpla alguna de las condiciones siguientes: \n",
    "\n",
    "* Se completan 100 epochs\n",
    "* La pérdida (entropía cruzada) del set de validación no mejora durante 5 epochs seguidos.\n",
    "\n",
    "A continuación describimos brevemente los diferentes intentos y la *accuracy* obtenida. Para más detalles, ver cada uno de los notebooks.\n",
    "\n",
    "* **Modelo base**: Empleando la arquitectura y parámetros de entrenamiento descritos en este notebook, obtenemos una ***accuracy* en validación del ~80.0%**\n",
    "* **Intento 2: Base + Dropout del 20%**: obtenemos una ***accuracy* en validación del ~80.6%**\n",
    "* **Intento 3: Resize + Base + Dropout del 30%**: obtenemos una ***accuracy* en validación del ~78.1%**\n",
    "* **Intento 4: Resize + Base + Dropout del 50%**: obtenemos una ***accuracy* en validación del ~81.5%**\n",
    "* **Intento 5: Resize + Base + Batch más pequeño**: obtenemos una ***accuracy* en validación del ~82.3%**\n",
    "* **Intento 6: Resize + Base + Conv. adicional**: obtenemos una ***accuracy* en validación del ~83.5%**\n",
    "* **Intento 7: Resize 128 + Multiple capa VGG con normalización + Dropout**: obtenemos una ***accuracy* en validación del ~89,15%**. En este intento se apilan varias capas convolucionales seguidas de max-pooling. El número de filtros de cada capa aumenta conforme más profunda es la red, doblando el número en cada nivel. Se añade en cada bloque un dropout para ayudar a reducir overfitting reduciendo la dependencia entre neuronas. Además se usa batch normalization para normalizar cada lote de datos y mejorar el rendimiento de la red.\n",
    "* **Intento 8: Arquitectura alternativa inspirada en ResNet**: hemos implementado una arquitectura inspirada en ResNet, aunque más ligera. Lo que hemos \"tomado\" de ResNet es el uso de *residual units* (también llamados *connection shortcuts*) para evitar que el gradiente tienda a cero cuando usamos un mayor número de capas (el efecto *vanishing gradients*), además de usar varios bloques de convoluciones y capas de pooling similares a las usadas en la ResNet. Obtenemos una ***accuracy* en validación del ~85.5%** con un modelo que tiene **~10 veces menos parámetros** que el modelo base.\n",
    "\n",
    "Nota, los valores del *accuracy* llevan el prefijo \"~\" para indicar que son aproximados ya que dependen de la iniciación aleatoria de los pesos. La *accuracy* que reportamos aquí es la obtenida al final del epoch con menor pérdida en validación, no la obtenida en el último epoch. Esto lo hacemos así porque en una aplicación real, lo que haríamos sería ir guardando *checkpoints* al final de cada epoch, y al final del entrenamiento revertiríamos los pesos del modelo a los pesos obtenidos al final de dicho epoch (el que tiene menor pérdida en validación). "
   ]
  },
  {
   "cell_type": "markdown",
   "metadata": {},
   "source": [
    "# Modelo base"
   ]
  },
  {
   "cell_type": "markdown",
   "metadata": {
    "colab_type": "text",
    "id": "dsvzwGy-bWrT"
   },
   "source": [
    "## 0. Descarga del dataset"
   ]
  },
  {
   "cell_type": "code",
   "execution_count": 9,
   "metadata": {
    "colab": {
     "base_uri": "https://localhost:8080/",
     "height": 122
    },
    "colab_type": "code",
    "id": "w-fLk6oobhF2",
    "outputId": "0c80eec8-91fa-4455-be82-940db7c2c4e0"
   },
   "outputs": [],
   "source": [
    "# from google.colab import drive\n",
    "# drive.mount('/content/drive')\n",
    "\n",
    "train_ds_path  ='../../deeplearning-az/datasets/' \\\n",
    "                'Part 2 - Convolutional Neural Networks (CNN)/dataset/training_set'\n",
    "test_ds_path   ='../../deeplearning-az/datasets/' \\\n",
    "                'Part 2 - Convolutional Neural Networks (CNN)/dataset/test_set'\n",
    "cat_or_dog_path='../../deeplearning-az/datasets/' \\\n",
    "                'Part 2 - Convolutional Neural Networks (CNN)/dataset/single_prediction/cat_or_dog_1.jpg'\n",
    "\n",
    "\n",
    "train_ds_path  ='.\\\\data\\\\training_set'\n",
    "test_ds_path   ='.\\\\data\\\\test_set'\n",
    "cat_or_dog_path='.\\\\data\\\\single_prediction\\\\cat_or_dog_1.jpg'\n"
   ]
  },
  {
   "cell_type": "markdown",
   "metadata": {},
   "source": [
    "Primero, importar las librerías y paquetes"
   ]
  },
  {
   "cell_type": "code",
   "execution_count": 10,
   "metadata": {},
   "outputs": [],
   "source": [
    "from keras.models import Sequential\n",
    "from keras.layers import Conv2D\n",
    "from keras.layers import MaxPooling2D\n",
    "from keras.layers import Flatten\n",
    "from keras.layers import Dense\n",
    "from keras.layers import BatchNormalization\n",
    "from keras.layers import GlobalAveragePooling2D\n",
    "from keras.layers import Dropout\n",
    "# Nota, algunas capas no están importadas aquí y se importan directamente en el código con tf.keras.laters.[CAPA]\n",
    "\n",
    "import matplotlib.pyplot as plt\n",
    "import tensorflow as tf\n",
    "import os\n",
    "import numpy as np\n",
    "import random as rn"
   ]
  },
  {
   "cell_type": "markdown",
   "metadata": {},
   "source": [
    "Fijamos seeds para poder reproducir resultados (aunque aun así a veces no lo conseguimos, probablementa haya inicializaciones que no dependan de estas seeds)"
   ]
  },
  {
   "cell_type": "code",
   "execution_count": 11,
   "metadata": {},
   "outputs": [],
   "source": [
    "os.environ['PYTHONHASHSEED'] = '0'\n",
    "np.random.seed(42)\n",
    "rn.seed(12345)\n",
    "tf.random.set_seed(1234)"
   ]
  },
  {
   "cell_type": "markdown",
   "metadata": {
    "colab_type": "text",
    "id": "kj7yYesKbctW"
   },
   "source": [
    "## 1. Construcción del modelo CNN base\n"
   ]
  },
  {
   "cell_type": "markdown",
   "metadata": {
    "colab_type": "text",
    "id": "AtczsRskbj2F"
   },
   "source": [
    "Creamos el modelo base para la clasificación de las imágenes, que consisitrá en:\n",
    "\n",
    "* Una capa de convolución con 32 filtros de 3x3 y función de activación ReLu\n",
    "* Una capa de max pooling de 2x2\n",
    "* Una capa de convolución con 32 filtros de 3x3 y función de activación ReLu\n",
    "* Una capa de max pooling de 2x2\n",
    "* Una capa \"flatten\" para convertir el tensor 2D en uno 1D\n",
    "* Una capa \"estándar\" (fully connected layer) con 128 neuronas y función de activación ReLu\n",
    "* Una capa \"estándar\" (fully connected layer) con 1 neurona y función de activación sigmoide, que generará un número indicando la \"probabilidad\" de que sea clase\n",
    "\n",
    "Nota: no aplicamos padding y el stride es 1 en todas las capas.\n",
    "\n",
    "El tamaño de imagen que emplearemos será de 64x64."
   ]
  },
  {
   "cell_type": "code",
   "execution_count": 12,
   "metadata": {
    "colab": {},
    "colab_type": "code",
    "id": "2kYdJsjsZCR8"
   },
   "outputs": [],
   "source": [
    "frame_size = (64, 64)\n",
    "\"\"\"\n",
    "esta dupla nos permitirá parametrizar la resolución\n",
    "de entrada de las imágenes\n",
    "\"\"\"\n",
    "\n",
    "def crear_clasificador_base():\n",
    "    classifier = Sequential()\n",
    "    classifier.add(Conv2D(filters = 32,kernel_size = (3, 3), \n",
    "                      input_shape = (*frame_size, 3), activation = \"relu\"))\n",
    "    classifier.add(MaxPooling2D(pool_size = (2,2)))\n",
    "    classifier.add(Conv2D(filters = 32,kernel_size = (3, 3), activation = \"relu\"))\n",
    "    classifier.add(MaxPooling2D(pool_size = (2,2)))\n",
    "    classifier.add(Flatten())\n",
    "    classifier.add(Dense(units = 128, activation = \"relu\"))\n",
    "    classifier.add(Dense(units = 1, activation = \"sigmoid\"))\n",
    "    return classifier"
   ]
  },
  {
   "cell_type": "markdown",
   "metadata": {
    "colab_type": "text",
    "id": "p7INHvHmcFdL"
   },
   "source": [
    "## 2. Entrenamiento del modelo base\n",
    "\n",
    "En primer lugar instanciamos nuestro modelo y compilamos usando:\n",
    "* Un optimizador Adam. La learning rate que emplea por defecto es 0.001\n",
    "* Binary cross entropy como función de coste a minimizar.  "
   ]
  },
  {
   "cell_type": "code",
   "execution_count": 13,
   "metadata": {
    "colab": {},
    "colab_type": "code",
    "id": "Uc7pBop7ZLeN"
   },
   "outputs": [
    {
     "name": "stdout",
     "output_type": "stream",
     "text": [
      "Model: \"sequential_1\"\n",
      "_________________________________________________________________\n",
      "Layer (type)                 Output Shape              Param #   \n",
      "=================================================================\n",
      "conv2d_2 (Conv2D)            (None, 62, 62, 32)        896       \n",
      "_________________________________________________________________\n",
      "max_pooling2d_2 (MaxPooling2 (None, 31, 31, 32)        0         \n",
      "_________________________________________________________________\n",
      "conv2d_3 (Conv2D)            (None, 29, 29, 32)        9248      \n",
      "_________________________________________________________________\n",
      "max_pooling2d_3 (MaxPooling2 (None, 14, 14, 32)        0         \n",
      "_________________________________________________________________\n",
      "flatten_1 (Flatten)          (None, 6272)              0         \n",
      "_________________________________________________________________\n",
      "dense_2 (Dense)              (None, 128)               802944    \n",
      "_________________________________________________________________\n",
      "dense_3 (Dense)              (None, 1)                 129       \n",
      "=================================================================\n",
      "Total params: 813,217\n",
      "Trainable params: 813,217\n",
      "Non-trainable params: 0\n",
      "_________________________________________________________________\n"
     ]
    }
   ],
   "source": [
    "classifier = crear_clasificador_base()\n",
    "classifier.compile(optimizer = \"adam\", \n",
    "                   loss = \"binary_crossentropy\", \n",
    "                   metrics = [\"accuracy\"])\n",
    "classifier.summary()"
   ]
  },
  {
   "cell_type": "markdown",
   "metadata": {},
   "source": [
    "En segundo lugar, generamos los datasets de entrenamiento y test. Emplearemos un tamaño de batch de 32"
   ]
  },
  {
   "cell_type": "code",
   "execution_count": 14,
   "metadata": {
    "colab": {
     "base_uri": "https://localhost:8080/",
     "height": 425
    },
    "colab_type": "code",
    "id": "BYgCwVDFZMrU",
    "outputId": "641d711f-0723-447f-811b-1c1aaa639274"
   },
   "outputs": [
    {
     "name": "stdout",
     "output_type": "stream",
     "text": [
      "Found 8000 images belonging to 2 classes.\n",
      "Found 2000 images belonging to 2 classes.\n"
     ]
    }
   ],
   "source": [
    "from keras.preprocessing.image import ImageDataGenerator\n",
    "\n",
    "batch_size=32 \n",
    "\n",
    "train_datagen = ImageDataGenerator(\n",
    "        rescale=1./255,\n",
    "        shear_range=0.2,\n",
    "        zoom_range=0.2,\n",
    "        horizontal_flip=True)\n",
    "\n",
    "test_datagen = ImageDataGenerator(rescale=1./255)\n",
    "\n",
    "training_dataset = train_datagen.flow_from_directory(train_ds_path,\n",
    "                                                     target_size=frame_size,\n",
    "                                                     batch_size=batch_size,\n",
    "                                                     class_mode='binary')\n",
    "\n",
    "testing_dataset = test_datagen.flow_from_directory(test_ds_path,\n",
    "                                                   target_size=frame_size,                                                   \n",
    "                                                   batch_size=batch_size,\n",
    "                                                   class_mode='binary')"
   ]
  },
  {
   "cell_type": "markdown",
   "metadata": {},
   "source": [
    "Definimos el callback y realizamos el entrenamiento con las condiciones descritas en la sección de introducción."
   ]
  },
  {
   "cell_type": "code",
   "execution_count": 15,
   "metadata": {},
   "outputs": [
    {
     "name": "stdout",
     "output_type": "stream",
     "text": [
      "Epoch 1/100\n",
      "250/250 [==============================] - 50s 197ms/step - loss: 0.6845 - accuracy: 0.5479 - val_loss: 0.6030 - val_accuracy: 0.6770\n",
      "Epoch 2/100\n",
      "250/250 [==============================] - 53s 210ms/step - loss: 0.5998 - accuracy: 0.6803 - val_loss: 0.5592 - val_accuracy: 0.7160\n",
      "Epoch 3/100\n",
      "250/250 [==============================] - 52s 206ms/step - loss: 0.5500 - accuracy: 0.7176 - val_loss: 0.5109 - val_accuracy: 0.7515\n",
      "Epoch 4/100\n",
      "250/250 [==============================] - 56s 224ms/step - loss: 0.5147 - accuracy: 0.7448 - val_loss: 0.5914 - val_accuracy: 0.6940\n",
      "Epoch 5/100\n",
      "250/250 [==============================] - 54s 215ms/step - loss: 0.5135 - accuracy: 0.7441 - val_loss: 0.4992 - val_accuracy: 0.7600\n",
      "Epoch 6/100\n",
      "250/250 [==============================] - 73s 293ms/step - loss: 0.4844 - accuracy: 0.7598 - val_loss: 0.4918 - val_accuracy: 0.7680\n",
      "Epoch 7/100\n",
      "250/250 [==============================] - 77s 306ms/step - loss: 0.4660 - accuracy: 0.7805 - val_loss: 0.4655 - val_accuracy: 0.7780\n",
      "Epoch 8/100\n",
      "250/250 [==============================] - 79s 312ms/step - loss: 0.4577 - accuracy: 0.7813 - val_loss: 0.5070 - val_accuracy: 0.7535\n",
      "Epoch 9/100\n",
      "250/250 [==============================] - 80s 317ms/step - loss: 0.4400 - accuracy: 0.7969 - val_loss: 0.4732 - val_accuracy: 0.7775\n",
      "Epoch 10/100\n",
      "250/250 [==============================] - 78s 308ms/step - loss: 0.4217 - accuracy: 0.8067 - val_loss: 0.4682 - val_accuracy: 0.7970\n",
      "Epoch 11/100\n",
      "250/250 [==============================] - 80s 317ms/step - loss: 0.4133 - accuracy: 0.8086 - val_loss: 0.4656 - val_accuracy: 0.7840\n",
      "Epoch 12/100\n",
      "250/250 [==============================] - 83s 331ms/step - loss: 0.4055 - accuracy: 0.8192 - val_loss: 0.4474 - val_accuracy: 0.7990\n",
      "Epoch 13/100\n",
      "250/250 [==============================] - 85s 339ms/step - loss: 0.3825 - accuracy: 0.8280 - val_loss: 0.4625 - val_accuracy: 0.8025\n",
      "Epoch 14/100\n",
      "250/250 [==============================] - 79s 313ms/step - loss: 0.3755 - accuracy: 0.8317 - val_loss: 0.4528 - val_accuracy: 0.7920\n",
      "Epoch 15/100\n",
      "250/250 [==============================] - 80s 315ms/step - loss: 0.3712 - accuracy: 0.8302 - val_loss: 0.4440 - val_accuracy: 0.8065\n",
      "Epoch 16/100\n",
      "250/250 [==============================] - 85s 338ms/step - loss: 0.3555 - accuracy: 0.8428 - val_loss: 0.4466 - val_accuracy: 0.7990\n",
      "Epoch 17/100\n",
      "250/250 [==============================] - 82s 320ms/step - loss: 0.3418 - accuracy: 0.8460 - val_loss: 0.4622 - val_accuracy: 0.8035\n",
      "Epoch 18/100\n",
      "250/250 [==============================] - 78s 307ms/step - loss: 0.3422 - accuracy: 0.8513 - val_loss: 0.5168 - val_accuracy: 0.7940\n",
      "Epoch 19/100\n",
      "250/250 [==============================] - 77s 307ms/step - loss: 0.3293 - accuracy: 0.8532 - val_loss: 0.4668 - val_accuracy: 0.7950\n",
      "Epoch 20/100\n",
      "250/250 [==============================] - 80s 318ms/step - loss: 0.3181 - accuracy: 0.8554 - val_loss: 0.4946 - val_accuracy: 0.7910\n"
     ]
    }
   ],
   "source": [
    "callbacks = [\n",
    "    tf.keras.callbacks.EarlyStopping(monitor='val_loss', min_delta = 0, patience=5),\n",
    "]                                                   \n",
    "                                                   \n",
    "history1 = classifier.fit(x=training_dataset,\n",
    "                         steps_per_epoch=8000/batch_size,\n",
    "                         epochs=100,\n",
    "                         validation_data=testing_dataset,\n",
    "                         validation_steps=2000/batch_size,\n",
    "                         workers=4,\n",
    "                         callbacks=callbacks) # \"Si pedimos más de un proceso el rendimiento mejora un poco\n"
   ]
  },
  {
   "cell_type": "markdown",
   "metadata": {},
   "source": [
    "Ploteamos el resultado"
   ]
  },
  {
   "cell_type": "code",
   "execution_count": 16,
   "metadata": {},
   "outputs": [
    {
     "data": {
      "image/png": "[encoded data removed]",
      "text/plain": [
       "<Figure size 1296x432 with 2 Axes>"
      ]
     },
     "metadata": {
      "needs_background": "light"
     },
     "output_type": "display_data"
    }
   ],
   "source": [
    "def plot_resultados_training(history):\n",
    "    fig, axes = plt.subplots(1,2, figsize=(18,6))\n",
    "    axes[0].plot(history.history['accuracy'], label='Train')\n",
    "    axes[0].plot(history.history['val_accuracy'], label='Validation')\n",
    "    axes[0].legend()\n",
    "    axes[0].set_title('Accuracy')\n",
    "    axes[1].plot(history.history['loss'], label='Train')\n",
    "    axes[1].plot(history.history['val_loss'], label='Validation')\n",
    "    axes[1].set_title('Cross entropy')\n",
    "plot_resultados_training(history1)"
   ]
  },
  {
   "cell_type": "code",
   "execution_count": 17,
   "metadata": {},
   "outputs": [
    {
     "name": "stdout",
     "output_type": "stream",
     "text": [
      "INFO:tensorflow:Assets written to: .\\models\\clasificador1\\assets\n"
     ]
    }
   ],
   "source": [
    "classifier.save('.\\\\models\\\\clasificador1')"
   ]
  },
  {
   "cell_type": "markdown",
   "metadata": {
    "colab_type": "text",
    "id": "KwHuYDWfcPEZ"
   },
   "source": [
    "## 3. Cómo hacer nuevas predicciones"
   ]
  },
  {
   "cell_type": "code",
   "execution_count": 18,
   "metadata": {
    "colab": {},
    "colab_type": "code",
    "id": "Z7k7KG9SZOjL"
   },
   "outputs": [
    {
     "name": "stdout",
     "output_type": "stream",
     "text": [
      "dog\n"
     ]
    }
   ],
   "source": [
    "import numpy as np\n",
    "from keras.preprocessing import image\n",
    "test_image = image.load_img(cat_or_dog_path, target_size = frame_size)\n",
    "test_image = image.img_to_array(test_image)\n",
    "test_image = np.expand_dims(test_image, axis = 0)\n",
    "result = classifier.predict(test_image)\n",
    "training_dataset.class_indices\n",
    "if result[0][0] == 1:\n",
    "    prediction = 'dog'\n",
    "else:\n",
    "    prediction = 'cat'\n",
    "\n",
    "print(prediction)\n"
   ]
  }
 ],
 "metadata": {
  "accelerator": "GPU",
  "colab": {
   "name": "CNN.ipynb",
   "provenance": [],
   "toc_visible": true
  },
  "kernelspec": {
   "display_name": "Python 3",
   "language": "python",
   "name": "python3"
  },
  "language_info": {
   "codemirror_mode": {
    "name": "ipython",
    "version": 3
   },
   "file_extension": ".py",
   "mimetype": "text/x-python",
   "name": "python",
   "nbconvert_exporter": "python",
   "pygments_lexer": "ipython3",
   "version": "3.8.5"
  }
 },
 "nbformat": 4,
 "nbformat_minor": 4
}
