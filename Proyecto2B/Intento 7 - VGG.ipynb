{
 "cells": [
  {
   "cell_type": "markdown",
   "metadata": {
    "colab_type": "text",
    "id": "dsvzwGy-bWrT"
   },
   "source": [
    "# Intento 7 - Arquitectura VGG"
   ]
  },
  {
   "cell_type": "code",
   "execution_count": 1,
   "metadata": {
    "colab": {
     "base_uri": "https://localhost:8080/",
     "height": 122
    },
    "colab_type": "code",
    "id": "w-fLk6oobhF2",
    "outputId": "0c80eec8-91fa-4455-be82-940db7c2c4e0"
   },
   "outputs": [],
   "source": [
    "train_ds_path  ='C:/Users/Usuario/Documents/Master/Aprendizaje Profundo/Udemy/deeplearning-az/datasets/Part 2 - Convolutional Neural Networks (CNN)/dataset/training_set'\n",
    "test_ds_path   ='C:/Users/Usuario/Documents/Master/Aprendizaje Profundo/Udemy/deeplearning-az/datasets/Part 2 - Convolutional Neural Networks (CNN)/dataset/test_set'\n",
    "cat_or_dog_path='C:/Users/Usuario/Documents/Master/Aprendizaje Profundo/Udemy/deeplearning-az/datasets/Part 2 - Convolutional Neural Networks (CNN)/dataset/single_prediction/cat_or_dog_1.jpg'"
   ]
  },
  {
   "cell_type": "markdown",
   "metadata": {
    "colab_type": "text",
    "id": "kj7yYesKbctW"
   },
   "source": [
    "# Parte 1 - Construir el modelo de CNN\n",
    "\n",
    "# Importar las librerías y paquetes"
   ]
  },
  {
   "cell_type": "code",
   "execution_count": 2,
   "metadata": {
    "colab": {},
    "colab_type": "code",
    "id": "YBacLjT1Y81H"
   },
   "outputs": [],
   "source": [
    "from keras.models import Sequential\n",
    "from keras.layers import Conv2D\n",
    "from keras.layers import MaxPooling2D\n",
    "from keras.layers import Flatten\n",
    "from keras.layers import Dense\n",
    "from keras.layers import BatchNormalization\n",
    "\n",
    "import matplotlib.pyplot as plt\n",
    "import tensorflow as tf\n",
    "import os\n",
    "import numpy as np\n",
    "import random as rn\n",
    "\n",
    "\"\"\"\n",
    "Necesitamos la capa de olvido para evitar el sobre-entrenamiento\n",
    "\"\"\"\n",
    "from keras.layers import Dropout"
   ]
  },
  {
   "cell_type": "markdown",
   "metadata": {},
   "source": [
    "Fijamos seeds para poder reproducir resultados (aunque aun así a veces no lo conseguimos, probablementa haya inicializaciones que no dependan de estas seeds)"
   ]
  },
  {
   "cell_type": "code",
   "execution_count": 3,
   "metadata": {},
   "outputs": [],
   "source": [
    "os.environ['PYTHONHASHSEED'] = '0'\n",
    "np.random.seed(42)\n",
    "rn.seed(12345)\n",
    "tf.random.set_seed(1234)"
   ]
  },
  {
   "cell_type": "markdown",
   "metadata": {
    "colab_type": "text",
    "id": "AtczsRskbj2F"
   },
   "source": [
    "# Inicializar la CNN"
   ]
  },
  {
   "cell_type": "code",
   "execution_count": 4,
   "metadata": {
    "colab": {},
    "colab_type": "code",
    "id": "rQL9sTJ9Y_Vc"
   },
   "outputs": [],
   "source": [
    "classifier = Sequential()"
   ]
  },
  {
   "cell_type": "markdown",
   "metadata": {
    "colab_type": "text",
    "id": "tUbAgrrqbpsY"
   },
   "source": [
    "# Convolución"
   ]
  },
  {
   "cell_type": "markdown",
   "metadata": {},
   "source": [
    "### Esta arquitectura apila varias capas convolucionales seguidos de max-pooling. El número de filtros de cada capa aumenta conforme más profunda es la red, doblando el número en cada nivel.\n",
    "\n",
    "En este intento se apilan varias capas convolucionales seguidas de max-pooling. El número de filtros de cada capa aumenta conforme más profunda es la red, doblando el número en cada nivel. Se añade en cada bloque un dropout para ayudar a reducir overfitting reduciendo la dependencia entre neuronas. Además se usa batch normalization para normalizar cada lote de datos y mejorar el rendimiento de la red."
   ]
  },
  {
   "cell_type": "code",
   "execution_count": 5,
   "metadata": {
    "colab": {},
    "colab_type": "code",
    "id": "2kYdJsjsZCR8"
   },
   "outputs": [
    {
     "name": "stdout",
     "output_type": "stream",
     "text": [
      "Model: \"sequential\"\n",
      "_________________________________________________________________\n",
      "Layer (type)                 Output Shape              Param #   \n",
      "=================================================================\n",
      "conv2d (Conv2D)              (None, 126, 126, 32)      896       \n",
      "_________________________________________________________________\n",
      "batch_normalization (BatchNo (None, 126, 126, 32)      128       \n",
      "_________________________________________________________________\n",
      "max_pooling2d (MaxPooling2D) (None, 63, 63, 32)        0         \n",
      "_________________________________________________________________\n",
      "dropout (Dropout)            (None, 63, 63, 32)        0         \n",
      "_________________________________________________________________\n",
      "conv2d_1 (Conv2D)            (None, 61, 61, 64)        18496     \n",
      "_________________________________________________________________\n",
      "batch_normalization_1 (Batch (None, 61, 61, 64)        256       \n",
      "_________________________________________________________________\n",
      "max_pooling2d_1 (MaxPooling2 (None, 30, 30, 64)        0         \n",
      "_________________________________________________________________\n",
      "dropout_1 (Dropout)          (None, 30, 30, 64)        0         \n",
      "_________________________________________________________________\n",
      "conv2d_2 (Conv2D)            (None, 28, 28, 128)       73856     \n",
      "_________________________________________________________________\n",
      "batch_normalization_2 (Batch (None, 28, 28, 128)       512       \n",
      "_________________________________________________________________\n",
      "max_pooling2d_2 (MaxPooling2 (None, 14, 14, 128)       0         \n",
      "_________________________________________________________________\n",
      "dropout_2 (Dropout)          (None, 14, 14, 128)       0         \n",
      "_________________________________________________________________\n",
      "flatten (Flatten)            (None, 25088)             0         \n",
      "_________________________________________________________________\n",
      "dense (Dense)                (None, 512)               12845568  \n",
      "_________________________________________________________________\n",
      "batch_normalization_3 (Batch (None, 512)               2048      \n",
      "_________________________________________________________________\n",
      "dropout_3 (Dropout)          (None, 512)               0         \n",
      "_________________________________________________________________\n",
      "dense_1 (Dense)              (None, 1)                 513       \n",
      "=================================================================\n",
      "Total params: 12,942,273\n",
      "Trainable params: 12,940,801\n",
      "Non-trainable params: 1,472\n",
      "_________________________________________________________________\n"
     ]
    }
   ],
   "source": [
    "Image_Width = 128\n",
    "Image_Height = 128\n",
    "Image_Size = (Image_Width,Image_Height)\n",
    "Image_Channels = 3\n",
    "\n",
    "# Número de canales de la imagen\n",
    "Image_Channels = 3\n",
    "\n",
    "# En este intento añadimos 3 convoluciones, cada una con una normalización, un max pooling y un dropout de 0,25\n",
    "classifier.add(Conv2D(32, (3, 3), activation='relu', input_shape = (*Image_Size, Image_Channels)))\n",
    "classifier.add(BatchNormalization())\n",
    "classifier.add(MaxPooling2D(pool_size=(2,2)))\n",
    "classifier.add(Dropout(0.25))\n",
    "\n",
    "# Doblamos el número de filtros\n",
    "classifier.add(Conv2D(64, (3, 3), activation = 'relu'))\n",
    "classifier.add(BatchNormalization())\n",
    "classifier.add(MaxPooling2D(pool_size = (2,2)))\n",
    "classifier.add(Dropout(0.25))\n",
    "\n",
    "# Doblamos el número de filtros\n",
    "classifier.add(Conv2D(128, (3, 3), activation = 'relu'))\n",
    "classifier.add(BatchNormalization())\n",
    "classifier.add(MaxPooling2D(pool_size = (2,2)))\n",
    "classifier.add(Dropout(0.25))\n",
    "\n",
    "# Añadimos dos full-connected layer con 512 unidades y 1 respectivamente; con un dropout de 0,5\n",
    "classifier.add(Flatten())\n",
    "classifier.add(Dense(units = 512, activation = 'relu'))\n",
    "classifier.add(BatchNormalization())\n",
    "classifier.add(Dropout(0.5))\n",
    "classifier.add(Dense(units = 1, activation = 'sigmoid'))\n",
    "\n",
    "classifier.compile(loss = 'binary_crossentropy',\n",
    "                   optimizer = 'adam', \n",
    "                   metrics = ['accuracy'])\n",
    "\n",
    "classifier.summary()"
   ]
  },
  {
   "cell_type": "markdown",
   "metadata": {
    "colab_type": "text",
    "id": "hits0FnccMjr"
   },
   "source": [
    "# Parte 2 - Ajustar la CNN a las imágenes para entrenar "
   ]
  },
  {
   "cell_type": "code",
   "execution_count": 6,
   "metadata": {
    "colab": {
     "base_uri": "https://localhost:8080/",
     "height": 425
    },
    "colab_type": "code",
    "id": "BYgCwVDFZMrU",
    "outputId": "641d711f-0723-447f-811b-1c1aaa639274"
   },
   "outputs": [
    {
     "name": "stdout",
     "output_type": "stream",
     "text": [
      "Found 8000 images belonging to 2 classes.\n",
      "Found 2000 images belonging to 2 classes.\n"
     ]
    }
   ],
   "source": [
    "from keras.preprocessing.image import ImageDataGenerator\n",
    "\n",
    "\"\"\"\n",
    "batch_size=32\n",
    "\n",
    "32 es el valor por defecto que usaría\n",
    "model.fit_generator, aunque aquí lo debemos\n",
    "especificar en los generadores en lugar de\n",
    "en la llamada al bucle de entrenamiento\n",
    "\"\"\"\n",
    "batch_size=32\n",
    "\n",
    "train_datagen = ImageDataGenerator(\n",
    "        rescale=1./255,\n",
    "        shear_range=0.2,\n",
    "        zoom_range=0.2,\n",
    "        horizontal_flip=True)\n",
    "\n",
    "test_datagen = ImageDataGenerator(rescale=1./255)\n",
    "\n",
    "training_dataset = train_datagen.flow_from_directory(train_ds_path,\n",
    "                                                     target_size=Image_Size,\n",
    "                                                     batch_size=batch_size,\n",
    "                                                     class_mode='binary')\n",
    "\n",
    "testing_dataset = test_datagen.flow_from_directory(test_ds_path,\n",
    "                                                   target_size=Image_Size,\n",
    "                                                   batch_size=batch_size,\n",
    "                                                   class_mode='binary')"
   ]
  },
  {
   "cell_type": "markdown",
   "metadata": {},
   "source": [
    "Definimos el callback para hacer early stopping  y realizamos el entrenamiento con las condiciones descritas en la sección de introducción."
   ]
  },
  {
   "cell_type": "code",
   "execution_count": 7,
   "metadata": {},
   "outputs": [
    {
     "name": "stdout",
     "output_type": "stream",
     "text": [
      "Epoch 1/100\n",
      "250/250 [==============================] - 168s 669ms/step - loss: 0.9507 - accuracy: 0.6004 - val_loss: 0.7378 - val_accuracy: 0.5125\n",
      "Epoch 2/100\n",
      "250/250 [==============================] - 166s 664ms/step - loss: 0.6532 - accuracy: 0.6697 - val_loss: 0.6930 - val_accuracy: 0.6260\n",
      "Epoch 3/100\n",
      "250/250 [==============================] - 166s 663ms/step - loss: 0.5770 - accuracy: 0.7057 - val_loss: 0.5682 - val_accuracy: 0.7035\n",
      "Epoch 4/100\n",
      "250/250 [==============================] - 166s 665ms/step - loss: 0.5353 - accuracy: 0.7275 - val_loss: 0.4795 - val_accuracy: 0.7705\n",
      "Epoch 5/100\n",
      "250/250 [==============================] - 167s 666ms/step - loss: 0.4817 - accuracy: 0.7681 - val_loss: 0.7700 - val_accuracy: 0.6030\n",
      "Epoch 6/100\n",
      "250/250 [==============================] - 166s 661ms/step - loss: 0.4657 - accuracy: 0.7855 - val_loss: 0.4898 - val_accuracy: 0.7655\n",
      "Epoch 7/100\n",
      "250/250 [==============================] - 165s 657ms/step - loss: 0.4435 - accuracy: 0.7884 - val_loss: 0.4844 - val_accuracy: 0.7715\n",
      "Epoch 8/100\n",
      "250/250 [==============================] - 166s 665ms/step - loss: 0.4358 - accuracy: 0.7937 - val_loss: 0.4750 - val_accuracy: 0.7830\n",
      "Epoch 9/100\n",
      "250/250 [==============================] - 170s 679ms/step - loss: 0.4024 - accuracy: 0.8157 - val_loss: 0.5584 - val_accuracy: 0.7610\n",
      "Epoch 10/100\n",
      "250/250 [==============================] - 168s 673ms/step - loss: 0.3888 - accuracy: 0.8157 - val_loss: 0.3950 - val_accuracy: 0.8150\n",
      "Epoch 11/100\n",
      "250/250 [==============================] - 166s 661ms/step - loss: 0.3669 - accuracy: 0.8354 - val_loss: 0.3614 - val_accuracy: 0.8400\n",
      "Epoch 12/100\n",
      "250/250 [==============================] - 167s 669ms/step - loss: 0.3452 - accuracy: 0.8449 - val_loss: 0.3894 - val_accuracy: 0.8355\n",
      "Epoch 13/100\n",
      "250/250 [==============================] - 167s 665ms/step - loss: 0.3419 - accuracy: 0.8541 - val_loss: 0.3496 - val_accuracy: 0.8460\n",
      "Epoch 14/100\n",
      "250/250 [==============================] - 165s 658ms/step - loss: 0.3346 - accuracy: 0.8543 - val_loss: 0.3716 - val_accuracy: 0.8505\n",
      "Epoch 15/100\n",
      "250/250 [==============================] - 165s 658ms/step - loss: 0.3298 - accuracy: 0.8559 - val_loss: 1.3295 - val_accuracy: 0.5985\n",
      "Epoch 16/100\n",
      "250/250 [==============================] - 160s 640ms/step - loss: 0.3488 - accuracy: 0.8372 - val_loss: 0.7945 - val_accuracy: 0.7180\n",
      "Epoch 17/100\n",
      "250/250 [==============================] - 160s 638ms/step - loss: 0.3013 - accuracy: 0.8680 - val_loss: 0.3721 - val_accuracy: 0.8385\n",
      "Epoch 18/100\n",
      "250/250 [==============================] - 160s 639ms/step - loss: 0.2898 - accuracy: 0.8811 - val_loss: 0.4090 - val_accuracy: 0.8300\n",
      "Epoch 19/100\n",
      "250/250 [==============================] - 159s 637ms/step - loss: 0.2916 - accuracy: 0.8733 - val_loss: 0.3696 - val_accuracy: 0.8570\n",
      "Epoch 20/100\n",
      "250/250 [==============================] - 160s 639ms/step - loss: 0.2812 - accuracy: 0.8770 - val_loss: 0.3899 - val_accuracy: 0.8390\n",
      "Epoch 21/100\n",
      "250/250 [==============================] - 159s 634ms/step - loss: 0.2967 - accuracy: 0.8722 - val_loss: 0.4093 - val_accuracy: 0.8385\n",
      "Epoch 22/100\n",
      "250/250 [==============================] - 159s 637ms/step - loss: 0.2848 - accuracy: 0.8800 - val_loss: 1.7105 - val_accuracy: 0.6525\n",
      "Epoch 23/100\n",
      "250/250 [==============================] - 159s 636ms/step - loss: 0.2873 - accuracy: 0.8748 - val_loss: 0.3634 - val_accuracy: 0.8465\n",
      "Epoch 24/100\n",
      "250/250 [==============================] - 160s 639ms/step - loss: 0.2614 - accuracy: 0.8945 - val_loss: 0.3451 - val_accuracy: 0.8550\n",
      "Epoch 25/100\n",
      "250/250 [==============================] - 159s 637ms/step - loss: 0.2555 - accuracy: 0.8906 - val_loss: 0.3844 - val_accuracy: 0.8620\n",
      "Epoch 26/100\n",
      "250/250 [==============================] - 159s 636ms/step - loss: 0.2645 - accuracy: 0.8913 - val_loss: 0.3652 - val_accuracy: 0.8660\n",
      "Epoch 27/100\n",
      "250/250 [==============================] - 160s 638ms/step - loss: 0.2910 - accuracy: 0.8782 - val_loss: 0.8557 - val_accuracy: 0.7680\n",
      "Epoch 28/100\n",
      "250/250 [==============================] - 159s 637ms/step - loss: 0.2448 - accuracy: 0.8997 - val_loss: 0.4310 - val_accuracy: 0.8425\n",
      "Epoch 29/100\n",
      "250/250 [==============================] - 159s 637ms/step - loss: 0.2317 - accuracy: 0.9022 - val_loss: 0.5229 - val_accuracy: 0.8120\n",
      "Epoch 30/100\n",
      "250/250 [==============================] - 159s 637ms/step - loss: 0.2178 - accuracy: 0.9099 - val_loss: 0.3100 - val_accuracy: 0.8805\n",
      "Epoch 31/100\n",
      "250/250 [==============================] - 160s 638ms/step - loss: 0.2058 - accuracy: 0.9159 - val_loss: 0.3445 - val_accuracy: 0.8725\n",
      "Epoch 32/100\n",
      "250/250 [==============================] - 159s 637ms/step - loss: 0.2438 - accuracy: 0.8974 - val_loss: 0.6356 - val_accuracy: 0.7845\n",
      "Epoch 33/100\n",
      "250/250 [==============================] - 159s 637ms/step - loss: 0.2136 - accuracy: 0.9112 - val_loss: 0.3619 - val_accuracy: 0.8600\n",
      "Epoch 34/100\n",
      "250/250 [==============================] - 159s 634ms/step - loss: 0.2027 - accuracy: 0.9152 - val_loss: 0.3490 - val_accuracy: 0.8815\n",
      "Epoch 35/100\n",
      "250/250 [==============================] - 160s 641ms/step - loss: 0.1806 - accuracy: 0.9270 - val_loss: 0.3394 - val_accuracy: 0.8700\n",
      "Epoch 36/100\n",
      "250/250 [==============================] - 159s 636ms/step - loss: 0.1974 - accuracy: 0.9179 - val_loss: 0.4025 - val_accuracy: 0.8600\n",
      "Epoch 37/100\n",
      "250/250 [==============================] - 160s 639ms/step - loss: 0.1758 - accuracy: 0.9287 - val_loss: 0.3702 - val_accuracy: 0.8555\n",
      "Epoch 38/100\n",
      "250/250 [==============================] - 160s 639ms/step - loss: 0.2236 - accuracy: 0.9119 - val_loss: 0.6570 - val_accuracy: 0.7715\n",
      "Epoch 39/100\n",
      "250/250 [==============================] - 160s 640ms/step - loss: 0.2433 - accuracy: 0.9032 - val_loss: 0.5882 - val_accuracy: 0.7915\n",
      "Epoch 40/100\n",
      "250/250 [==============================] - 159s 634ms/step - loss: 0.2302 - accuracy: 0.9069 - val_loss: 0.3426 - val_accuracy: 0.8755\n",
      "Epoch 41/100\n",
      "250/250 [==============================] - 160s 638ms/step - loss: 0.2084 - accuracy: 0.9138 - val_loss: 0.3246 - val_accuracy: 0.8750\n",
      "Epoch 42/100\n",
      "250/250 [==============================] - 160s 639ms/step - loss: 0.1871 - accuracy: 0.9280 - val_loss: 0.2830 - val_accuracy: 0.8890\n",
      "Epoch 43/100\n",
      "250/250 [==============================] - 160s 641ms/step - loss: 0.1858 - accuracy: 0.9285 - val_loss: 0.3991 - val_accuracy: 0.8650\n",
      "Epoch 44/100\n",
      "250/250 [==============================] - 159s 635ms/step - loss: 0.1806 - accuracy: 0.9256 - val_loss: 0.3075 - val_accuracy: 0.8830\n",
      "Epoch 45/100\n",
      "250/250 [==============================] - 159s 637ms/step - loss: 0.1824 - accuracy: 0.9270 - val_loss: 0.3252 - val_accuracy: 0.8735\n",
      "Epoch 46/100\n",
      "250/250 [==============================] - 160s 638ms/step - loss: 0.1745 - accuracy: 0.9292 - val_loss: 1.0096 - val_accuracy: 0.7325\n",
      "Epoch 47/100\n",
      "250/250 [==============================] - 159s 635ms/step - loss: 0.2157 - accuracy: 0.9153 - val_loss: 0.5588 - val_accuracy: 0.7695\n",
      "Epoch 48/100\n",
      "250/250 [==============================] - 160s 639ms/step - loss: 0.2250 - accuracy: 0.9030 - val_loss: 0.3673 - val_accuracy: 0.8695\n",
      "Epoch 49/100\n",
      "250/250 [==============================] - 160s 640ms/step - loss: 0.1937 - accuracy: 0.9229 - val_loss: 0.3101 - val_accuracy: 0.8755\n",
      "Epoch 50/100\n",
      "250/250 [==============================] - 161s 643ms/step - loss: 0.1871 - accuracy: 0.9242 - val_loss: 0.3748 - val_accuracy: 0.8810\n",
      "Epoch 51/100\n",
      "250/250 [==============================] - 159s 636ms/step - loss: 0.1573 - accuracy: 0.9431 - val_loss: 0.3080 - val_accuracy: 0.8845\n",
      "Epoch 52/100\n",
      "250/250 [==============================] - 161s 642ms/step - loss: 0.1714 - accuracy: 0.9293 - val_loss: 0.3183 - val_accuracy: 0.8855\n",
      "Epoch 53/100\n",
      "250/250 [==============================] - 159s 637ms/step - loss: 0.1565 - accuracy: 0.9391 - val_loss: 0.3334 - val_accuracy: 0.8720\n",
      "Epoch 54/100\n",
      "250/250 [==============================] - 161s 644ms/step - loss: 0.1713 - accuracy: 0.9300 - val_loss: 0.3139 - val_accuracy: 0.8910\n",
      "Epoch 55/100\n",
      "250/250 [==============================] - 160s 639ms/step - loss: 0.1341 - accuracy: 0.9470 - val_loss: 0.3181 - val_accuracy: 0.8850\n",
      "Epoch 56/100\n",
      "250/250 [==============================] - 160s 639ms/step - loss: 0.1574 - accuracy: 0.9372 - val_loss: 0.6729 - val_accuracy: 0.8145\n",
      "Epoch 57/100\n",
      "250/250 [==============================] - 159s 637ms/step - loss: 0.1621 - accuracy: 0.9367 - val_loss: 0.7433 - val_accuracy: 0.7600\n",
      "Epoch 58/100\n",
      "250/250 [==============================] - 160s 639ms/step - loss: 0.2449 - accuracy: 0.9003 - val_loss: 0.8917 - val_accuracy: 0.7055\n",
      "Epoch 59/100\n",
      "250/250 [==============================] - 160s 637ms/step - loss: 0.1639 - accuracy: 0.9381 - val_loss: 0.5722 - val_accuracy: 0.8415\n",
      "Epoch 60/100\n",
      "250/250 [==============================] - 160s 637ms/step - loss: 0.1517 - accuracy: 0.9433 - val_loss: 0.3710 - val_accuracy: 0.8750\n",
      "Epoch 61/100\n",
      "250/250 [==============================] - 160s 637ms/step - loss: 0.1336 - accuracy: 0.9486 - val_loss: 0.5303 - val_accuracy: 0.8355\n",
      "Epoch 62/100\n",
      "250/250 [==============================] - 159s 635ms/step - loss: 0.1546 - accuracy: 0.9392 - val_loss: 0.3287 - val_accuracy: 0.8800\n",
      "Epoch 63/100\n",
      "250/250 [==============================] - 159s 637ms/step - loss: 0.1415 - accuracy: 0.9443 - val_loss: 0.4072 - val_accuracy: 0.8795\n",
      "Epoch 64/100\n",
      "250/250 [==============================] - 160s 638ms/step - loss: 0.1586 - accuracy: 0.9359 - val_loss: 0.3801 - val_accuracy: 0.8785\n",
      "Epoch 65/100\n",
      "250/250 [==============================] - 160s 638ms/step - loss: 0.1419 - accuracy: 0.9440 - val_loss: 0.5494 - val_accuracy: 0.8155\n",
      "Epoch 66/100\n",
      "250/250 [==============================] - 160s 640ms/step - loss: 0.1369 - accuracy: 0.9501 - val_loss: 0.3934 - val_accuracy: 0.8765\n",
      "Epoch 67/100\n",
      "250/250 [==============================] - 160s 638ms/step - loss: 0.1315 - accuracy: 0.9481 - val_loss: 1.1225 - val_accuracy: 0.7850\n",
      "Epoch 68/100\n",
      "250/250 [==============================] - 160s 639ms/step - loss: 0.1548 - accuracy: 0.9360 - val_loss: 0.7960 - val_accuracy: 0.7775\n",
      "Epoch 69/100\n",
      "250/250 [==============================] - 160s 640ms/step - loss: 0.1417 - accuracy: 0.9457 - val_loss: 0.5222 - val_accuracy: 0.8300\n",
      "Epoch 70/100\n",
      "250/250 [==============================] - 160s 640ms/step - loss: 0.1433 - accuracy: 0.9399 - val_loss: 0.3535 - val_accuracy: 0.8690\n",
      "Epoch 71/100\n",
      "250/250 [==============================] - 160s 638ms/step - loss: 0.1332 - accuracy: 0.9465 - val_loss: 0.3654 - val_accuracy: 0.8905\n",
      "Epoch 72/100\n",
      "250/250 [==============================] - 159s 635ms/step - loss: 0.1228 - accuracy: 0.9509 - val_loss: 0.4230 - val_accuracy: 0.8755\n",
      "Epoch 73/100\n",
      "250/250 [==============================] - 161s 642ms/step - loss: 0.1457 - accuracy: 0.9413 - val_loss: 0.4012 - val_accuracy: 0.8535\n",
      "Epoch 74/100\n",
      "250/250 [==============================] - 160s 639ms/step - loss: 0.1417 - accuracy: 0.9447 - val_loss: 0.3811 - val_accuracy: 0.8755\n",
      "Epoch 75/100\n",
      "250/250 [==============================] - 159s 637ms/step - loss: 0.1354 - accuracy: 0.9451 - val_loss: 0.4347 - val_accuracy: 0.8645\n",
      "Epoch 76/100\n",
      "250/250 [==============================] - 160s 641ms/step - loss: 0.1261 - accuracy: 0.9476 - val_loss: 0.6064 - val_accuracy: 0.8160\n",
      "Epoch 77/100\n",
      "250/250 [==============================] - 160s 638ms/step - loss: 0.1419 - accuracy: 0.9447 - val_loss: 0.3903 - val_accuracy: 0.8490\n",
      "Epoch 78/100\n",
      "250/250 [==============================] - 159s 635ms/step - loss: 0.1619 - accuracy: 0.9377 - val_loss: 0.4163 - val_accuracy: 0.8455\n",
      "Epoch 79/100\n",
      "250/250 [==============================] - 159s 637ms/step - loss: 0.1291 - accuracy: 0.9496 - val_loss: 0.3455 - val_accuracy: 0.8795\n",
      "Epoch 80/100\n",
      "250/250 [==============================] - 160s 640ms/step - loss: 0.1201 - accuracy: 0.9518 - val_loss: 0.3459 - val_accuracy: 0.8795\n",
      "Epoch 81/100\n",
      "250/250 [==============================] - 160s 640ms/step - loss: 0.1304 - accuracy: 0.9476 - val_loss: 0.5111 - val_accuracy: 0.8560\n",
      "Epoch 82/100\n",
      "250/250 [==============================] - 159s 637ms/step - loss: 0.1800 - accuracy: 0.9329 - val_loss: 0.7523 - val_accuracy: 0.7460\n",
      "Epoch 83/100\n",
      "250/250 [==============================] - 160s 639ms/step - loss: 0.1784 - accuracy: 0.9273 - val_loss: 0.3675 - val_accuracy: 0.8785\n",
      "Epoch 84/100\n",
      "250/250 [==============================] - 160s 638ms/step - loss: 0.1226 - accuracy: 0.9511 - val_loss: 0.3372 - val_accuracy: 0.8915\n",
      "Epoch 85/100\n",
      "250/250 [==============================] - 160s 638ms/step - loss: 0.1145 - accuracy: 0.9530 - val_loss: 0.3499 - val_accuracy: 0.8845\n",
      "Epoch 86/100\n",
      "250/250 [==============================] - 160s 639ms/step - loss: 0.1055 - accuracy: 0.9603 - val_loss: 0.4047 - val_accuracy: 0.8850\n",
      "Epoch 87/100\n",
      "250/250 [==============================] - 159s 636ms/step - loss: 0.1230 - accuracy: 0.9529 - val_loss: 0.5638 - val_accuracy: 0.8335\n",
      "Epoch 88/100\n",
      "250/250 [==============================] - 160s 640ms/step - loss: 0.1426 - accuracy: 0.9475 - val_loss: 0.4423 - val_accuracy: 0.8780\n",
      "Epoch 89/100\n",
      "250/250 [==============================] - 160s 638ms/step - loss: 0.1349 - accuracy: 0.9452 - val_loss: 0.3512 - val_accuracy: 0.8890\n",
      "Epoch 90/100\n",
      "250/250 [==============================] - 159s 636ms/step - loss: 0.1436 - accuracy: 0.9348 - val_loss: 0.3468 - val_accuracy: 0.8885\n",
      "Epoch 91/100\n",
      "250/250 [==============================] - 163s 653ms/step - loss: 0.1209 - accuracy: 0.9536 - val_loss: 0.3291 - val_accuracy: 0.8870\n",
      "Epoch 92/100\n",
      "250/250 [==============================] - 159s 636ms/step - loss: 0.1077 - accuracy: 0.9566 - val_loss: 0.4283 - val_accuracy: 0.8370\n",
      "Epoch 93/100\n",
      "250/250 [==============================] - 159s 637ms/step - loss: 0.1492 - accuracy: 0.9427 - val_loss: 0.3477 - val_accuracy: 0.8870\n",
      "Epoch 94/100\n",
      "250/250 [==============================] - 159s 635ms/step - loss: 0.1268 - accuracy: 0.9487 - val_loss: 0.3529 - val_accuracy: 0.8910\n",
      "Epoch 95/100\n",
      "250/250 [==============================] - 161s 643ms/step - loss: 0.1213 - accuracy: 0.9524 - val_loss: 0.3511 - val_accuracy: 0.8900\n",
      "Epoch 96/100\n",
      "250/250 [==============================] - 160s 639ms/step - loss: 0.1078 - accuracy: 0.9618 - val_loss: 0.8103 - val_accuracy: 0.8225\n",
      "Epoch 97/100\n",
      "250/250 [==============================] - 160s 637ms/step - loss: 0.1309 - accuracy: 0.9509 - val_loss: 0.6051 - val_accuracy: 0.8110\n",
      "Epoch 98/100\n",
      "250/250 [==============================] - 160s 640ms/step - loss: 0.1447 - accuracy: 0.9390 - val_loss: 0.3812 - val_accuracy: 0.8705\n",
      "Epoch 99/100\n",
      "250/250 [==============================] - 159s 637ms/step - loss: 0.1279 - accuracy: 0.9510 - val_loss: 3.0581 - val_accuracy: 0.6280\n",
      "Epoch 100/100\n",
      "250/250 [==============================] - 159s 636ms/step - loss: 0.1724 - accuracy: 0.9335 - val_loss: 0.3962 - val_accuracy: 0.8735\n"
     ]
    }
   ],
   "source": [
    "callbacks = [\n",
    "    tf.keras.callbacks.EarlyStopping(monitor = 'val_loss', min_delta = 0, patience = 5),\n",
    "]                                                   \n",
    "\n",
    "history = classifier.fit(x = training_dataset,\n",
    "                         steps_per_epoch = 8000 / batch_size,\n",
    "                         epochs = 100,\n",
    "                         validation_data = testing_dataset,\n",
    "                         validation_steps = 2000 / batch_size,\n",
    "                         workers = 4) # \"Si pedimos más de un proceso el rendimiento mejora un poco"
   ]
  },
  {
   "cell_type": "markdown",
   "metadata": {},
   "source": [
    "Pintamos los resultados"
   ]
  },
  {
   "cell_type": "code",
   "execution_count": 8,
   "metadata": {},
   "outputs": [
    {
     "data": {
      "image/png": "[encoded data removed]",
      "text/plain": [
       "<Figure size 1296x432 with 2 Axes>"
      ]
     },
     "metadata": {
      "needs_background": "light"
     },
     "output_type": "display_data"
    }
   ],
   "source": [
    "def plot_resultados_training(history):\n",
    "    fig, axes = plt.subplots(1,2, figsize=(18,6))\n",
    "    axes[0].plot(history.history['accuracy'], label='Train')\n",
    "    axes[0].plot(history.history['val_accuracy'], label='Validation')\n",
    "    axes[0].legend()\n",
    "    axes[0].set_title('Accuracy')\n",
    "    axes[1].plot(history.history['loss'], label='Train')\n",
    "    axes[1].plot(history.history['val_loss'], label='Validation')\n",
    "    axes[1].set_title('Cross entropy')\n",
    "plot_resultados_training(history)"
   ]
  },
  {
   "cell_type": "code",
   "execution_count": 9,
   "metadata": {},
   "outputs": [
    {
     "name": "stdout",
     "output_type": "stream",
     "text": [
      "INFO:tensorflow:Assets written to: clasificador5\\assets\n"
     ]
    }
   ],
   "source": [
    "classifier.save('clasificador5')"
   ]
  },
  {
   "cell_type": "markdown",
   "metadata": {
    "colab_type": "text",
    "id": "KwHuYDWfcPEZ"
   },
   "source": [
    "# Parte 3 - Cómo hacer nuevas predicciones"
   ]
  },
  {
   "cell_type": "code",
   "execution_count": 10,
   "metadata": {
    "colab": {},
    "colab_type": "code",
    "id": "Z7k7KG9SZOjL"
   },
   "outputs": [
    {
     "name": "stdout",
     "output_type": "stream",
     "text": [
      "dog\n"
     ]
    }
   ],
   "source": [
    "import numpy as np\n",
    "from keras.preprocessing import image\n",
    "test_image = image.load_img(cat_or_dog_path, target_size = Image_Size)\n",
    "test_image = image.img_to_array(test_image)\n",
    "test_image = np.expand_dims(test_image, axis = 0)\n",
    "result = classifier.predict(test_image)\n",
    "training_dataset.class_indices\n",
    "if result[0][0] == 1:\n",
    "    prediction = 'dog'\n",
    "else:\n",
    "    prediction = 'cat'\n",
    "\n",
    "print(prediction)\n"
   ]
  }
 ],
 "metadata": {
  "accelerator": "GPU",
  "colab": {
   "name": "CNN.ipynb",
   "provenance": [],
   "toc_visible": true
  },
  "kernelspec": {
   "display_name": "Python 3",
   "language": "python",
   "name": "python3"
  },
  "language_info": {
   "codemirror_mode": {
    "name": "ipython",
    "version": 3
   },
   "file_extension": ".py",
   "mimetype": "text/x-python",
   "name": "python",
   "nbconvert_exporter": "python",
   "pygments_lexer": "ipython3",
   "version": "3.8.5"
  }
 },
 "nbformat": 4,
 "nbformat_minor": 4
}
