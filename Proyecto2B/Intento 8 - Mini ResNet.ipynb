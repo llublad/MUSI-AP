{
 "cells": [
  {
   "cell_type": "markdown",
   "metadata": {},
   "source": [
    "# Intento 8 - \"Mini ResNet\""
   ]
  },
  {
   "cell_type": "markdown",
   "metadata": {
    "colab_type": "text",
    "id": "dsvzwGy-bWrT"
   },
   "source": [
    "## 0. Descarga del dataset"
   ]
  },
  {
   "cell_type": "code",
   "execution_count": 1,
   "metadata": {
    "colab": {
     "base_uri": "https://localhost:8080/",
     "height": 122
    },
    "colab_type": "code",
    "id": "w-fLk6oobhF2",
    "outputId": "0c80eec8-91fa-4455-be82-940db7c2c4e0"
   },
   "outputs": [],
   "source": [
    "train_ds_path  ='.\\\\data\\\\training_set'\n",
    "test_ds_path   ='.\\\\data\\\\test_set'\n",
    "cat_or_dog_path='.\\\\data\\\\single_prediction\\\\cat_or_dog_1.jpg'\n"
   ]
  },
  {
   "cell_type": "markdown",
   "metadata": {},
   "source": [
    "Primero, importar las librerías y paquetes"
   ]
  },
  {
   "cell_type": "code",
   "execution_count": 2,
   "metadata": {},
   "outputs": [],
   "source": [
    "from keras.models import Sequential\n",
    "from keras.layers import Conv2D\n",
    "from keras.layers import MaxPooling2D\n",
    "from keras.layers import Flatten\n",
    "from keras.layers import Dense\n",
    "from keras.layers import BatchNormalization\n",
    "from keras.layers import GlobalAveragePooling2D\n",
    "from keras.layers import Dropout\n",
    "# Nota, algunas capas no están importadas aquí y se importan directamente en el código con tf.keras.laters.[CAPA]\n",
    "\n",
    "import matplotlib.pyplot as plt\n",
    "import tensorflow as tf\n",
    "import os\n",
    "import numpy as np\n",
    "import random as rn"
   ]
  },
  {
   "cell_type": "markdown",
   "metadata": {},
   "source": [
    "Fijamos seeds para poder reproducir resultados (aunque aun así a veces no lo conseguimos, probablementa haya inicializaciones que no dependan de estas seeds)"
   ]
  },
  {
   "cell_type": "code",
   "execution_count": 3,
   "metadata": {},
   "outputs": [],
   "source": [
    "os.environ['PYTHONHASHSEED'] = '0'\n",
    "np.random.seed(42)\n",
    "rn.seed(12345)\n",
    "tf.random.set_seed(1234)"
   ]
  },
  {
   "cell_type": "markdown",
   "metadata": {
    "colab_type": "text",
    "id": "kj7yYesKbctW"
   },
   "source": [
    "## 1. Construcción de la red neuronal\n",
    "\n",
    "En este intento hemos tratado de implementar una versión reducida de la arquitectura *ResNet* que vimos en los vídeos de clase. Para ello nos hemos apoyado en el paper original ([Deep Residual Learning for Image Recognition](https://arxiv.org/pdf/1512.03385.pdf)) y en la explicación adicional proporcionada en este blog: [Understanding and visualizing ResNets | by Pablo Ruiz](https://towardsdatascience.com/understanding-and-visualizing-resnets-442284831be8).\n",
    "\n",
    "![Arquitectura de la ResNet34](imagenes/ResNet34.jpg)\n",
    "\n",
    "Como nosotros tenemos imágenes más pequeñas y sólo dos clases, implementareos una versión reducida de la ResNet. En concreto implementaremos sólo la capa inicial (conv 7x7 y max pooling), los dos primeros bloques (entendiendo como bloque todas las cajas representadas con un color) y las capas finales (global average pooling + fully connected network)"
   ]
  },
  {
   "cell_type": "code",
   "execution_count": 4,
   "metadata": {
    "colab": {},
    "colab_type": "code",
    "id": "2kYdJsjsZCR8"
   },
   "outputs": [],
   "source": [
    "frame_size = (64, 64)"
   ]
  },
  {
   "cell_type": "markdown",
   "metadata": {},
   "source": [
    "En primer lugar, definimos un modelo (*ConvNormReluBlock*) que representa conjunto de 2 convoluciones de la ResNet (cada dos cajas en el diagrama), las convoluciones siempre van seguidas de una normalización y de una activación ReLU. Aunque en la segunda activación también se suma el input de dos capas más atrás, por eso dejamos esa ReLu fuera de este bloque. En la imagen, lo que está dentro de la línea azul es lo que se modela en este bloque.\n",
    "\n",
    "![](imagenes/Bloque.jpg)"
   ]
  },
  {
   "cell_type": "code",
   "execution_count": 45,
   "metadata": {},
   "outputs": [],
   "source": [
    "def ConvNormReluBlock(filters, first_stride):\n",
    "        modelo = Sequential()\n",
    "        pad = 'same' if first_stride == 1 else 'valid'            \n",
    "        modelo.add(Conv2D(filters = filters,kernel_size = (3, 3), padding=pad, strides=first_stride))\n",
    "        modelo.add(BatchNormalization())\n",
    "        modelo.add(tf.keras.layers.ReLU())                \n",
    "        modelo.add(Conv2D(filters = filters,kernel_size = (3, 3), padding='same', strides=1))\n",
    "        modelo.add(BatchNormalization())        \n",
    "        return modelo"
   ]
  },
  {
   "cell_type": "markdown",
   "metadata": {},
   "source": [
    "A continuación, usando el modelo que acabamos de declarar construimos la capa (*ResNetBlock*) que representa el bloque entero de convoluciones (en el diagrama un bloque es un conjunto de 6 cajas con el mismo color). Cada bloque tiene 6 convoluciones, y cada dos convoluciones, antes de la activación, se suma el input de dos capas más atrás (*shortcut connection*). Además la primera convolución del bloque aplica un stride de 2 que reduce la dimensión 1 y 2 del input.\n",
    "\n",
    "Nota: los *shortcut connections* entre capas con distinto número de filtros (las flechas discontinuas en la figura), requieren sumar dos tensores de diferente tamaño. En el *paper* original sugieren dos métodos, nosotros hemos usado el segundo (*projection shortcut*), auqnue hemos tenido que añadir un crop para que las dimiensiones cuadraran (en el paper original no hace falta porque las imágenes que utilizan tienen otro tamaño, y además usan un padding en algunos pasos que nosotros no).\n",
    "\n",
    "Un bloque/capa *ResNetBlock* representaría un volumen en la siguiente representación en 3D de la *ResNet34*: \n",
    "\n",
    "![ResNet34](imagenes/Volumenes.jpg)\n"
   ]
  },
  {
   "cell_type": "code",
   "execution_count": 59,
   "metadata": {},
   "outputs": [],
   "source": [
    "class ResNetBlock(tf.keras.layers.Layer):    \n",
    "    \n",
    "    def __init__(self, filters, first_stride):\n",
    "        super(ResNetBlock, self).__init__()        \n",
    "        self.first_stride = first_stride\n",
    "        self.block1 = ConvNormReluBlock(filters, first_stride)\n",
    "        self.projection_shortcut = Conv2D(filters = filters, kernel_size = (1, 1), strides=2)\n",
    "        self.crop = tf.keras.layers.Cropping2D(cropping=((0,1),(0,1)))\n",
    "        self.relu_endblock1 = tf.keras.layers.ReLU()\n",
    "        self.block2 = ConvNormReluBlock(filters, 1)\n",
    "        self.relu_endblock2 = tf.keras.layers.ReLU()\n",
    "        self.block3 = ConvNormReluBlock(filters, 1)                \n",
    "        self.last_relu = tf.keras.layers.ReLU()\n",
    "    \n",
    "    def call(self, input):\n",
    "        out1 = self.block1(input)\n",
    "        input_mod = input\n",
    "        if self.first_stride == 2:\n",
    "            input_mod = self.projection_shortcut(input)\n",
    "            input_mod = self.crop(input_mod)\n",
    "        inp2 = tf.math.add(out1,input_mod) # Shortcut connection\n",
    "        inp2 = self.relu_endblock1(inp2)\n",
    "        out2 = self.block2(inp2)\n",
    "        inp3 = tf.math.add(out2,inp2) # Shortcut connection\n",
    "        inp3 = self.relu_endblock2(inp3)\n",
    "        out3 = self.block3(inp3)\n",
    "        inp4 = tf.math.add(out3,inp3) # Shortcut connection\n",
    "        out = self.last_relu(inp4)\n",
    "        \n",
    "        return out3"
   ]
  },
  {
   "cell_type": "markdown",
   "metadata": {},
   "source": [
    "Por último, añadimos la capa inicial que incluye una convolución (aunque en nuestro caso como las imágenes son más pequeñas usamos un filtro de 5x5 en lugar de 7x7) con stride y un max pooling. También añadimso la capa final. En ResNet usan una capa de 1000 neuronas porque están prediciendo mil clases. Nosotros como tenemos un problema de clasificación binario, sólo tenemos una neurona. \n",
    "\n",
    "En nuestra \"mini ResNet\" solo hemos añadido dos bloques de 6 convoluciones cada uno (en lugar de los 5 que tiene la *ResNet34*). Además, en lugar de usar 64 y 128 filtros en cada bloque respectivamente, hemos usado sólo 32 y 64 filtros."
   ]
  },
  {
   "cell_type": "code",
   "execution_count": 70,
   "metadata": {},
   "outputs": [],
   "source": [
    "class MiniResNet(tf.keras.Model):\n",
    "\n",
    "    def __init__(self):\n",
    "        super(MiniResNet, self).__init__()\n",
    "        self.firstconv = Conv2D(filters = 32,kernel_size = (5, 5), strides=(2,2))\n",
    "        self.norm = BatchNormalization()\n",
    "        self.maxpool = MaxPooling2D(pool_size = (3,3))\n",
    "        self.resunit1 = ResNetBlock(32, first_stride=1) # El primer ResNetBlock no tiene stride\n",
    "        self.resunit2 = ResNetBlock(64, first_stride=2)  # El segundo ResNetBlocks si aplica un stride sobre el output del bloque anterior\n",
    "        self.globavgpool = GlobalAveragePooling2D()        \n",
    "        self.lastlayer = Dense(units = 1, activation = \"sigmoid\")\n",
    "    \n",
    "        \n",
    "        self.build(input_shape=(None, *frame_size, 3))\n",
    "\n",
    "    def call(self, inputs):            \n",
    "        \n",
    "        x = self.firstconv(inputs)\n",
    "        x = self.norm(x)\n",
    "        x = self.maxpool(x)        \n",
    "        x = self.resunit1(x)\n",
    "        x = self.resunit2(x)\n",
    "        x = self.globavgpool(x)        \n",
    "        x = self.lastlayer(x)\n",
    "        \n",
    "        return x"
   ]
  },
  {
   "cell_type": "markdown",
   "metadata": {
    "colab_type": "text",
    "id": "p7INHvHmcFdL"
   },
   "source": [
    "## 2. Entrenamiento del modelo\n",
    "\n",
    "En primer lugar instanciamos nuestro modelo y compilamos usando:\n",
    "* Un optimizador Adam con learning rate del 0.001, como en el modelo base.\n",
    "* Binary cross entropy como función de coste a minimizar.  "
   ]
  },
  {
   "cell_type": "markdown",
   "metadata": {},
   "source": [
    "En segundo lugar, generamos los datasets de entrenamiento y test. Emplearemos un tamaño de batch de 32"
   ]
  },
  {
   "cell_type": "code",
   "execution_count": 49,
   "metadata": {
    "colab": {
     "base_uri": "https://localhost:8080/",
     "height": 425
    },
    "colab_type": "code",
    "id": "BYgCwVDFZMrU",
    "outputId": "641d711f-0723-447f-811b-1c1aaa639274"
   },
   "outputs": [
    {
     "name": "stdout",
     "output_type": "stream",
     "text": [
      "Found 8000 images belonging to 2 classes.\n",
      "Found 2000 images belonging to 2 classes.\n"
     ]
    }
   ],
   "source": [
    "from keras.preprocessing.image import ImageDataGenerator\n",
    "\n",
    "batch_size=32 \n",
    "\n",
    "train_datagen = ImageDataGenerator(\n",
    "        rescale=1./255,\n",
    "        shear_range=0.2,\n",
    "        zoom_range=0.2,\n",
    "        horizontal_flip=True)\n",
    "\n",
    "test_datagen = ImageDataGenerator(rescale=1./255)\n",
    "\n",
    "training_dataset = train_datagen.flow_from_directory(train_ds_path,\n",
    "                                                     target_size=frame_size,\n",
    "                                                     batch_size=batch_size,\n",
    "                                                     class_mode='binary')\n",
    "\n",
    "testing_dataset = test_datagen.flow_from_directory(test_ds_path,\n",
    "                                                   target_size=frame_size,                                                   \n",
    "                                                   batch_size=batch_size,\n",
    "                                                   class_mode='binary')\n",
    "callbacks = [\n",
    "    tf.keras.callbacks.EarlyStopping(monitor='val_loss', min_delta = 0, patience=5),\n",
    "]                                                   \n",
    "\n",
    "model = MiniResNet()\n",
    "model.summary()\n",
    "model.compile(optimizer = tf.keras.optimizers.Adam(0.001), \n",
    "                   loss = \"binary_crossentropy\", \n",
    "                   metrics = [\"accuracy\"])"
   ]
  },
  {
   "cell_type": "markdown",
   "metadata": {},
   "source": [
    "Definimos el callback y realizamos el entrenamiento con las condiciones descritas en la sección de introducción."
   ]
  },
  {
   "cell_type": "code",
   "execution_count": 57,
   "metadata": {},
   "outputs": [
    {
     "name": "stdout",
     "output_type": "stream",
     "text": [
      "Model: \"mini_res_net_17\"\n",
      "_________________________________________________________________\n",
      "Layer (type)                 Output Shape              Param #   \n",
      "=================================================================\n",
      "conv2d_255 (Conv2D)          multiple                  2432      \n",
      "_________________________________________________________________\n",
      "batch_normalization_221 (Bat multiple                  128       \n",
      "_________________________________________________________________\n",
      "max_pooling2d_17 (MaxPooling multiple                  0         \n",
      "_________________________________________________________________\n",
      "res_net_block_34 (ResNetBloc multiple                  56256     \n",
      "_________________________________________________________________\n",
      "res_net_block_35 (ResNetBloc multiple                  206784    \n",
      "_________________________________________________________________\n",
      "global_average_pooling2d_17  multiple                  0         \n",
      "_________________________________________________________________\n",
      "dense_33 (Dense)             multiple                  65        \n",
      "=================================================================\n",
      "Total params: 265,665\n",
      "Trainable params: 264,449\n",
      "Non-trainable params: 1,216\n",
      "_________________________________________________________________\n",
      "Epoch 1/100\n",
      "250/250 [==============================] - 67s 251ms/step - loss: 0.6660 - accuracy: 0.6113 - val_loss: 1.0804 - val_accuracy: 0.5010\n",
      "Epoch 2/100\n",
      "250/250 [==============================] - 62s 247ms/step - loss: 0.5686 - accuracy: 0.7031 - val_loss: 1.0118 - val_accuracy: 0.6018\n",
      "Epoch 3/100\n",
      "250/250 [==============================] - 70s 280ms/step - loss: 0.5289 - accuracy: 0.7418 - val_loss: 0.5429 - val_accuracy: 0.7288\n",
      "Epoch 4/100\n",
      "250/250 [==============================] - 76s 301ms/step - loss: 0.5024 - accuracy: 0.7574 - val_loss: 0.6221 - val_accuracy: 0.6673\n",
      "Epoch 5/100\n",
      "250/250 [==============================] - 63s 252ms/step - loss: 0.4633 - accuracy: 0.7747 - val_loss: 0.6314 - val_accuracy: 0.6875\n",
      "Epoch 6/100\n",
      "250/250 [==============================] - 66s 262ms/step - loss: 0.4409 - accuracy: 0.7881 - val_loss: 1.4530 - val_accuracy: 0.5544\n",
      "Epoch 7/100\n",
      "250/250 [==============================] - 61s 244ms/step - loss: 0.4292 - accuracy: 0.8011 - val_loss: 0.7010 - val_accuracy: 0.6562\n",
      "Epoch 8/100\n",
      "250/250 [==============================] - 65s 257ms/step - loss: 0.3986 - accuracy: 0.8184 - val_loss: 0.3960 - val_accuracy: 0.8150\n",
      "Epoch 9/100\n",
      "250/250 [==============================] - 63s 253ms/step - loss: 0.3925 - accuracy: 0.8187 - val_loss: 0.4601 - val_accuracy: 0.7863\n",
      "Epoch 10/100\n",
      "250/250 [==============================] - 68s 269ms/step - loss: 0.3848 - accuracy: 0.8250 - val_loss: 2.0463 - val_accuracy: 0.5333\n",
      "Epoch 11/100\n",
      "250/250 [==============================] - 67s 266ms/step - loss: 0.3464 - accuracy: 0.8448 - val_loss: 0.5259 - val_accuracy: 0.7540\n",
      "Epoch 12/100\n",
      "250/250 [==============================] - 63s 250ms/step - loss: 0.3302 - accuracy: 0.8512 - val_loss: 0.3667 - val_accuracy: 0.8397\n",
      "Epoch 13/100\n",
      "250/250 [==============================] - 64s 254ms/step - loss: 0.3283 - accuracy: 0.8560 - val_loss: 0.5544 - val_accuracy: 0.7515\n",
      "Epoch 14/100\n",
      "250/250 [==============================] - 60s 240ms/step - loss: 0.3141 - accuracy: 0.8632 - val_loss: 0.5519 - val_accuracy: 0.7939\n",
      "Epoch 15/100\n",
      "250/250 [==============================] - 62s 247ms/step - loss: 0.3111 - accuracy: 0.8656 - val_loss: 0.3908 - val_accuracy: 0.8291\n",
      "Epoch 16/100\n",
      "250/250 [==============================] - 66s 265ms/step - loss: 0.3013 - accuracy: 0.8687 - val_loss: 0.3513 - val_accuracy: 0.8538\n",
      "Epoch 17/100\n",
      "250/250 [==============================] - 60s 238ms/step - loss: 0.2916 - accuracy: 0.8738 - val_loss: 0.3849 - val_accuracy: 0.8322\n",
      "Epoch 18/100\n",
      "250/250 [==============================] - 60s 239ms/step - loss: 0.2873 - accuracy: 0.8780 - val_loss: 0.4457 - val_accuracy: 0.8029\n",
      "Epoch 19/100\n",
      "250/250 [==============================] - 59s 233ms/step - loss: 0.2843 - accuracy: 0.8784 - val_loss: 0.4853 - val_accuracy: 0.8029\n",
      "Epoch 20/100\n",
      "250/250 [==============================] - 58s 233ms/step - loss: 0.2667 - accuracy: 0.8844 - val_loss: 0.3776 - val_accuracy: 0.8337\n",
      "Epoch 21/100\n",
      "250/250 [==============================] - 58s 233ms/step - loss: 0.2716 - accuracy: 0.8889 - val_loss: 0.3376 - val_accuracy: 0.8548\n",
      "Epoch 22/100\n",
      "250/250 [==============================] - 57s 229ms/step - loss: 0.2562 - accuracy: 0.8929 - val_loss: 0.4410 - val_accuracy: 0.7989\n",
      "Epoch 23/100\n",
      "250/250 [==============================] - 59s 233ms/step - loss: 0.2470 - accuracy: 0.8928 - val_loss: 0.4952 - val_accuracy: 0.7933\n",
      "Epoch 24/100\n",
      "250/250 [==============================] - 58s 232ms/step - loss: 0.2360 - accuracy: 0.8990 - val_loss: 0.3656 - val_accuracy: 0.8443\n",
      "Epoch 25/100\n",
      "250/250 [==============================] - 57s 228ms/step - loss: 0.2411 - accuracy: 0.9026 - val_loss: 0.3727 - val_accuracy: 0.8503\n",
      "Epoch 26/100\n",
      "250/250 [==============================] - 58s 231ms/step - loss: 0.2157 - accuracy: 0.9092 - val_loss: 0.3758 - val_accuracy: 0.8503\n"
     ]
    }
   ],
   "source": [
    "callbacks = [\n",
    "    tf.keras.callbacks.EarlyStopping(monitor='val_loss', min_delta = 0, patience=5),\n",
    "]                                                   \n",
    "\n",
    "model = MiniResNet()\n",
    "model.summary()\n",
    "model.compile(optimizer = tf.keras.optimizers.Adam(0.001), \n",
    "                   loss = \"binary_crossentropy\", \n",
    "                   metrics = [\"accuracy\"])\n",
    "history_resnet = model.fit(x=training_dataset,\n",
    "                         steps_per_epoch=8000//batch_size,\n",
    "                         epochs=100,\n",
    "                         validation_data=testing_dataset,\n",
    "                         validation_steps=2000//batch_size,\n",
    "                         workers=4,\n",
    "                         callbacks=callbacks)"
   ]
  },
  {
   "cell_type": "markdown",
   "metadata": {},
   "source": [
    "Ploteamos el resultado"
   ]
  },
  {
   "cell_type": "code",
   "execution_count": 58,
   "metadata": {},
   "outputs": [
    {
     "data": {
      "image/png": "[encoded data removed]",
      "text/plain": [
       "<Figure size 1296x432 with 2 Axes>"
      ]
     },
     "metadata": {
      "needs_background": "light"
     },
     "output_type": "display_data"
    }
   ],
   "source": [
    "def plot_resultados_training(history):\n",
    "    fig, axes = plt.subplots(1,2, figsize=(18,6))\n",
    "    axes[0].plot(history.history['accuracy'], label='Train')\n",
    "    axes[0].plot(history.history['val_accuracy'], label='Validation')\n",
    "    axes[0].legend()\n",
    "    axes[0].set_title('Accuracy')\n",
    "    axes[1].plot(history.history['loss'], label='Train')\n",
    "    axes[1].plot(history.history['val_loss'], label='Validation')\n",
    "    axes[1].set_title('Cross entropy')\n",
    "plot_resultados_training(history_resnet)"
   ]
  },
  {
   "cell_type": "markdown",
   "metadata": {},
   "source": [
    "Como vemos, el entrenamiento se para tras no haber mejora en el valor de la cross-entropía durante 5 epochs, siendo la mejor *accuracy* en validación del **85.5%**. Es destacable también que está *accuracy* se alcanza con un modelo con ~265k parámetros, **10 veces menos** que el modelo base, por lo que es más eficiente en el entrenamiento."
   ]
  }
 ],
 "metadata": {
  "accelerator": "GPU",
  "colab": {
   "name": "CNN.ipynb",
   "provenance": [],
   "toc_visible": true
  },
  "kernelspec": {
   "display_name": "Python 3",
   "language": "python",
   "name": "python3"
  },
  "language_info": {
   "codemirror_mode": {
    "name": "ipython",
    "version": 3
   },
   "file_extension": ".py",
   "mimetype": "text/x-python",
   "name": "python",
   "nbconvert_exporter": "python",
   "pygments_lexer": "ipython3",
   "version": "3.6.9"
  }
 },
 "nbformat": 4,
 "nbformat_minor": 4
}
