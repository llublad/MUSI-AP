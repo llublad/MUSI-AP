{
 "cells": [
  {
   "cell_type": "markdown",
   "metadata": {},
   "source": [
    "# Intento 5"
   ]
  },
  {
   "cell_type": "markdown",
   "metadata": {},
   "source": [
    "La diferencia entre este intento y el anterior\n",
    "es que hemos reducido el batch_size\n",
    "de 32 a 20 imágenes por lote."
   ]
  },
  {
   "cell_type": "markdown",
   "metadata": {
    "colab_type": "text",
    "id": "dsvzwGy-bWrT"
   },
   "source": [
    "## 0. Descarga del dataset"
   ]
  },
  {
   "cell_type": "code",
   "execution_count": 1,
   "metadata": {
    "colab": {
     "base_uri": "https://localhost:8080/",
     "height": 122
    },
    "colab_type": "code",
    "id": "w-fLk6oobhF2",
    "outputId": "0c80eec8-91fa-4455-be82-940db7c2c4e0"
   },
   "outputs": [],
   "source": [
    "# from google.colab import drive\n",
    "# drive.mount('/content/drive')\n",
    "\n",
    "train_ds_path  ='../../deeplearning-az/datasets/Part 2 - Convolutional Neural Networks (CNN)/dataset/training_set'\n",
    "test_ds_path   ='../../deeplearning-az/datasets/Part 2 - Convolutional Neural Networks (CNN)/dataset/test_set'\n",
    "cat_or_dog_path='../../deeplearning-az/datasets/Part 2 - Convolutional Neural Networks (CNN)/dataset/single_prediction/cat_or_dog_1.jpg'\n",
    "\n",
    "#train_ds_path  ='C:/Users/Usuario/Documents/Master/Aprendizaje Profundo/Udemy/deeplearning-az/datasets/Part 2 - Convolutional Neural Networks (CNN)/dataset/training_set'\n",
    "#test_ds_path   ='C:/Users/Usuario/Documents/Master/Aprendizaje Profundo/Udemy/deeplearning-az/datasets/Part 2 - Convolutional Neural Networks (CNN)/dataset/test_set'\n",
    "#cat_or_dog_path='C:/Users/Usuario/Documents/Master/Aprendizaje Profundo/Udemy/deeplearning-az/datasets/Part 2 - Convolutional Neural Networks (CNN)/dataset/single_prediction/cat_or_dog_1.jpg'\n",
    "\n",
    "#train_ds_path  ='.\\\\data\\\\training_set'\n",
    "#test_ds_path   ='.\\\\data\\\\test_set'\n",
    "#cat_or_dog_path='.\\\\data\\\\single_prediction\\\\cat_or_dog_1.jpg'\n"
   ]
  },
  {
   "cell_type": "markdown",
   "metadata": {},
   "source": [
    "Primero, importar las librerías y paquetes"
   ]
  },
  {
   "cell_type": "code",
   "execution_count": 2,
   "metadata": {},
   "outputs": [],
   "source": [
    "from keras.models import Sequential\n",
    "from keras.layers import Conv2D\n",
    "from keras.layers import MaxPooling2D\n",
    "from keras.layers import Flatten\n",
    "from keras.layers import Dense\n",
    "from keras.layers import BatchNormalization\n",
    "from keras.layers import GlobalAveragePooling2D\n",
    "from keras.layers import Dropout\n",
    "# Nota, algunas capas no están importadas aquí y se importan directamente en el código con tf.keras.laters.[CAPA]\n",
    "\n",
    "import matplotlib.pyplot as plt\n",
    "import tensorflow as tf\n",
    "import os\n",
    "import numpy as np\n",
    "import random as rn"
   ]
  },
  {
   "cell_type": "markdown",
   "metadata": {},
   "source": [
    "Fijamos seeds para poder reproducir resultados (aunque aun así a veces no lo conseguimos, probablementa haya inicializaciones que no dependan de estas seeds)"
   ]
  },
  {
   "cell_type": "code",
   "execution_count": 3,
   "metadata": {},
   "outputs": [],
   "source": [
    "os.environ['PYTHONHASHSEED'] = '0'\n",
    "np.random.seed(42)\n",
    "rn.seed(12345)\n",
    "tf.random.set_seed(1234)"
   ]
  },
  {
   "cell_type": "markdown",
   "metadata": {
    "colab_type": "text",
    "id": "kj7yYesKbctW"
   },
   "source": [
    "## 1. Construcción del modelo CNN añadiendo un tamaño de imagen mayor\n"
   ]
  },
  {
   "cell_type": "markdown",
   "metadata": {
    "colab_type": "text",
    "id": "AtczsRskbj2F"
   },
   "source": [
    "El tamaño de imagen que emplearemos será de 96x96, y el dropout rate es del 50%"
   ]
  },
  {
   "cell_type": "code",
   "execution_count": 4,
   "metadata": {
    "colab": {},
    "colab_type": "code",
    "id": "2kYdJsjsZCR8"
   },
   "outputs": [],
   "source": [
    "frame_size = (96, 96)\n",
    "\"\"\"\n",
    "esta dupla nos permitirá parametrizar la resolución\n",
    "de entrada de las imágenes\n",
    "\"\"\"\n",
    "\n",
    "def crear_clasificador_intento5():\n",
    "    classifier = Sequential()\n",
    "    classifier.add(Conv2D(filters = 32,kernel_size = (3, 3), \n",
    "                      input_shape = (*frame_size, 3), activation = \"relu\"))\n",
    "    classifier.add(MaxPooling2D(pool_size = (2,2)))\n",
    "    classifier.add(Conv2D(filters = 32,kernel_size = (3, 3), activation = \"relu\"))\n",
    "    classifier.add(MaxPooling2D(pool_size = (2,2)))\n",
    "    classifier.add(Flatten())\n",
    "    classifier.add(Dense(units = 128, activation = \"relu\"))\n",
    "    classifier.add(Dropout(0.5))\n",
    "    classifier.add(Dense(units = 1, activation = \"sigmoid\"))    \n",
    "    return classifier"
   ]
  },
  {
   "cell_type": "markdown",
   "metadata": {
    "colab_type": "text",
    "id": "p7INHvHmcFdL"
   },
   "source": [
    "## 2. Entrenamiento del intento 5\n",
    "\n",
    "En primer lugar instanciamos nuestro modelo y compilamos usando:\n",
    "* Un optimizador Adam. La learning rate que emplea por defecto es 0.001\n",
    "* Binary cross entropy como función de coste a minimizar.  "
   ]
  },
  {
   "cell_type": "code",
   "execution_count": 5,
   "metadata": {
    "colab": {},
    "colab_type": "code",
    "id": "Uc7pBop7ZLeN"
   },
   "outputs": [
    {
     "name": "stdout",
     "output_type": "stream",
     "text": [
      "Model: \"sequential\"\n",
      "_________________________________________________________________\n",
      "Layer (type)                 Output Shape              Param #   \n",
      "=================================================================\n",
      "conv2d (Conv2D)              (None, 94, 94, 32)        896       \n",
      "_________________________________________________________________\n",
      "max_pooling2d (MaxPooling2D) (None, 47, 47, 32)        0         \n",
      "_________________________________________________________________\n",
      "conv2d_1 (Conv2D)            (None, 45, 45, 32)        9248      \n",
      "_________________________________________________________________\n",
      "max_pooling2d_1 (MaxPooling2 (None, 22, 22, 32)        0         \n",
      "_________________________________________________________________\n",
      "flatten (Flatten)            (None, 15488)             0         \n",
      "_________________________________________________________________\n",
      "dense (Dense)                (None, 128)               1982592   \n",
      "_________________________________________________________________\n",
      "dropout (Dropout)            (None, 128)               0         \n",
      "_________________________________________________________________\n",
      "dense_1 (Dense)              (None, 1)                 129       \n",
      "=================================================================\n",
      "Total params: 1,992,865\n",
      "Trainable params: 1,992,865\n",
      "Non-trainable params: 0\n",
      "_________________________________________________________________\n"
     ]
    }
   ],
   "source": [
    "classifier = crear_clasificador_intento5()\n",
    "classifier.compile(optimizer = \"adam\", \n",
    "                   loss = \"binary_crossentropy\", \n",
    "                   metrics = [\"accuracy\"])\n",
    "classifier.summary()"
   ]
  },
  {
   "cell_type": "markdown",
   "metadata": {},
   "source": [
    "En segundo lugar, generamos los datasets de entrenamiento y test.\n",
    "Emplearemos un **tamaño de batch de 20**"
   ]
  },
  {
   "cell_type": "code",
   "execution_count": 6,
   "metadata": {
    "colab": {
     "base_uri": "https://localhost:8080/",
     "height": 425
    },
    "colab_type": "code",
    "id": "BYgCwVDFZMrU",
    "outputId": "641d711f-0723-447f-811b-1c1aaa639274"
   },
   "outputs": [
    {
     "name": "stdout",
     "output_type": "stream",
     "text": [
      "Found 8000 images belonging to 2 classes.\n",
      "Found 2000 images belonging to 2 classes.\n"
     ]
    }
   ],
   "source": [
    "from keras.preprocessing.image import ImageDataGenerator\n",
    "\n",
    "batch_size=20\n",
    "\n",
    "train_datagen = ImageDataGenerator(\n",
    "        rescale=1./255,\n",
    "        shear_range=0.2,\n",
    "        zoom_range=0.2,\n",
    "        horizontal_flip=True)\n",
    "\n",
    "test_datagen = ImageDataGenerator(rescale=1./255)\n",
    "\n",
    "training_dataset = train_datagen.flow_from_directory(train_ds_path,\n",
    "                                                     target_size=frame_size,\n",
    "                                                     batch_size=batch_size,\n",
    "                                                     class_mode='binary')\n",
    "\n",
    "testing_dataset = test_datagen.flow_from_directory(test_ds_path,\n",
    "                                                   target_size=frame_size,                                                   \n",
    "                                                   batch_size=batch_size,\n",
    "                                                   class_mode='binary')"
   ]
  },
  {
   "cell_type": "markdown",
   "metadata": {},
   "source": [
    "Definimos el callback y realizamos el entrenamiento con las condiciones descritas en la sección de introducción."
   ]
  },
  {
   "cell_type": "code",
   "execution_count": 7,
   "metadata": {},
   "outputs": [
    {
     "name": "stdout",
     "output_type": "stream",
     "text": [
      "Epoch 1/100\n",
      "400/400 [==============================] - 65s 163ms/step - loss: 0.6891 - accuracy: 0.5504 - val_loss: 0.6769 - val_accuracy: 0.5725\n",
      "Epoch 2/100\n",
      "400/400 [==============================] - 66s 165ms/step - loss: 0.6621 - accuracy: 0.6101 - val_loss: 0.6686 - val_accuracy: 0.6155\n",
      "Epoch 3/100\n",
      "400/400 [==============================] - 69s 173ms/step - loss: 0.6286 - accuracy: 0.6530 - val_loss: 0.6107 - val_accuracy: 0.6815\n",
      "Epoch 4/100\n",
      "400/400 [==============================] - 68s 169ms/step - loss: 0.5944 - accuracy: 0.6865 - val_loss: 0.5768 - val_accuracy: 0.7135\n",
      "Epoch 5/100\n",
      "400/400 [==============================] - 66s 165ms/step - loss: 0.5739 - accuracy: 0.7014 - val_loss: 0.5922 - val_accuracy: 0.6945\n",
      "Epoch 6/100\n",
      "400/400 [==============================] - 65s 163ms/step - loss: 0.5565 - accuracy: 0.7147 - val_loss: 0.5656 - val_accuracy: 0.7270\n",
      "Epoch 7/100\n",
      "400/400 [==============================] - 66s 164ms/step - loss: 0.5310 - accuracy: 0.7361 - val_loss: 0.5642 - val_accuracy: 0.7240\n",
      "Epoch 8/100\n",
      "400/400 [==============================] - 66s 164ms/step - loss: 0.5191 - accuracy: 0.7475 - val_loss: 0.5380 - val_accuracy: 0.7330\n",
      "Epoch 9/100\n",
      "400/400 [==============================] - 67s 168ms/step - loss: 0.5003 - accuracy: 0.7602 - val_loss: 0.4951 - val_accuracy: 0.7625\n",
      "Epoch 10/100\n",
      "400/400 [==============================] - 64s 161ms/step - loss: 0.4823 - accuracy: 0.7661 - val_loss: 0.5526 - val_accuracy: 0.7370\n",
      "Epoch 11/100\n",
      "400/400 [==============================] - 66s 165ms/step - loss: 0.4839 - accuracy: 0.7684 - val_loss: 0.5245 - val_accuracy: 0.7415\n",
      "Epoch 12/100\n",
      "400/400 [==============================] - 71s 177ms/step - loss: 0.4714 - accuracy: 0.7747 - val_loss: 0.5040 - val_accuracy: 0.7620\n",
      "Epoch 13/100\n",
      "400/400 [==============================] - 71s 177ms/step - loss: 0.4546 - accuracy: 0.7864 - val_loss: 0.4805 - val_accuracy: 0.7840\n",
      "Epoch 14/100\n",
      "400/400 [==============================] - 71s 177ms/step - loss: 0.4455 - accuracy: 0.7894 - val_loss: 0.4879 - val_accuracy: 0.7770\n",
      "Epoch 15/100\n",
      "400/400 [==============================] - 66s 166ms/step - loss: 0.4422 - accuracy: 0.7956 - val_loss: 0.4864 - val_accuracy: 0.7785\n",
      "Epoch 16/100\n",
      "400/400 [==============================] - 66s 165ms/step - loss: 0.4395 - accuracy: 0.7946 - val_loss: 0.4869 - val_accuracy: 0.7810\n",
      "Epoch 17/100\n",
      "400/400 [==============================] - 66s 165ms/step - loss: 0.4238 - accuracy: 0.8050 - val_loss: 0.4827 - val_accuracy: 0.7745\n",
      "Epoch 18/100\n",
      "400/400 [==============================] - 66s 166ms/step - loss: 0.4185 - accuracy: 0.8046 - val_loss: 0.4856 - val_accuracy: 0.7800\n",
      "Epoch 19/100\n",
      "400/400 [==============================] - 66s 165ms/step - loss: 0.4115 - accuracy: 0.8124 - val_loss: 0.4728 - val_accuracy: 0.7655\n",
      "Epoch 20/100\n",
      "400/400 [==============================] - 63s 157ms/step - loss: 0.4087 - accuracy: 0.8138 - val_loss: 0.4641 - val_accuracy: 0.7785\n",
      "Epoch 21/100\n",
      "400/400 [==============================] - 64s 159ms/step - loss: 0.3924 - accuracy: 0.8263 - val_loss: 0.4703 - val_accuracy: 0.7870\n",
      "Epoch 22/100\n",
      "400/400 [==============================] - 63s 158ms/step - loss: 0.3855 - accuracy: 0.8259 - val_loss: 0.4679 - val_accuracy: 0.7840\n",
      "Epoch 23/100\n",
      "400/400 [==============================] - 63s 157ms/step - loss: 0.3748 - accuracy: 0.8319 - val_loss: 0.4627 - val_accuracy: 0.7895\n",
      "Epoch 24/100\n",
      "400/400 [==============================] - 69s 173ms/step - loss: 0.3736 - accuracy: 0.8311 - val_loss: 0.4907 - val_accuracy: 0.7965\n",
      "Epoch 25/100\n",
      "400/400 [==============================] - 68s 170ms/step - loss: 0.3658 - accuracy: 0.8396 - val_loss: 0.4536 - val_accuracy: 0.8075\n",
      "Epoch 26/100\n",
      "400/400 [==============================] - 66s 166ms/step - loss: 0.3615 - accuracy: 0.8384 - val_loss: 0.4898 - val_accuracy: 0.7895\n",
      "Epoch 27/100\n",
      "400/400 [==============================] - 67s 167ms/step - loss: 0.3400 - accuracy: 0.8516 - val_loss: 0.5183 - val_accuracy: 0.7835\n",
      "Epoch 28/100\n",
      "400/400 [==============================] - 70s 174ms/step - loss: 0.3558 - accuracy: 0.8435 - val_loss: 0.4958 - val_accuracy: 0.7805\n",
      "Epoch 29/100\n",
      "400/400 [==============================] - 68s 171ms/step - loss: 0.3407 - accuracy: 0.8504 - val_loss: 0.5429 - val_accuracy: 0.7720\n",
      "Epoch 30/100\n",
      "400/400 [==============================] - 63s 158ms/step - loss: 0.3372 - accuracy: 0.8520 - val_loss: 0.5438 - val_accuracy: 0.7790\n",
      "Epoch 31/100\n",
      "400/400 [==============================] - 63s 157ms/step - loss: 0.3417 - accuracy: 0.8518 - val_loss: 0.4823 - val_accuracy: 0.7935\n",
      "Epoch 32/100\n",
      "400/400 [==============================] - 63s 157ms/step - loss: 0.3159 - accuracy: 0.8634 - val_loss: 0.5004 - val_accuracy: 0.7855\n",
      "Epoch 33/100\n",
      "400/400 [==============================] - 62s 155ms/step - loss: 0.3286 - accuracy: 0.8586 - val_loss: 0.4856 - val_accuracy: 0.7905\n",
      "Epoch 34/100\n",
      "400/400 [==============================] - 63s 158ms/step - loss: 0.3126 - accuracy: 0.8669 - val_loss: 0.4897 - val_accuracy: 0.7940\n",
      "Epoch 35/100\n",
      "400/400 [==============================] - 62s 155ms/step - loss: 0.3092 - accuracy: 0.8660 - val_loss: 0.5026 - val_accuracy: 0.7945\n",
      "Epoch 36/100\n",
      "400/400 [==============================] - 62s 155ms/step - loss: 0.3041 - accuracy: 0.8677 - val_loss: 0.5205 - val_accuracy: 0.7865\n",
      "Epoch 37/100\n",
      "400/400 [==============================] - 62s 155ms/step - loss: 0.2952 - accuracy: 0.8736 - val_loss: 0.4962 - val_accuracy: 0.7980\n",
      "Epoch 38/100\n",
      "400/400 [==============================] - 62s 155ms/step - loss: 0.3058 - accuracy: 0.8690 - val_loss: 0.5053 - val_accuracy: 0.7900\n",
      "Epoch 39/100\n",
      "400/400 [==============================] - 62s 155ms/step - loss: 0.2920 - accuracy: 0.8726 - val_loss: 0.5193 - val_accuracy: 0.8000\n",
      "Epoch 40/100\n",
      "400/400 [==============================] - 62s 156ms/step - loss: 0.2894 - accuracy: 0.8755 - val_loss: 0.5133 - val_accuracy: 0.8030\n",
      "Epoch 41/100\n",
      "400/400 [==============================] - 63s 157ms/step - loss: 0.2772 - accuracy: 0.8783 - val_loss: 0.5399 - val_accuracy: 0.7975\n",
      "Epoch 42/100\n",
      "400/400 [==============================] - 62s 154ms/step - loss: 0.2794 - accuracy: 0.8850 - val_loss: 0.5444 - val_accuracy: 0.7925\n",
      "Epoch 43/100\n",
      "400/400 [==============================] - 63s 159ms/step - loss: 0.2748 - accuracy: 0.8802 - val_loss: 0.5327 - val_accuracy: 0.7995\n",
      "Epoch 44/100\n",
      "400/400 [==============================] - 62s 156ms/step - loss: 0.2681 - accuracy: 0.8839 - val_loss: 0.5396 - val_accuracy: 0.7890\n",
      "Epoch 45/100\n",
      "400/400 [==============================] - 63s 156ms/step - loss: 0.2691 - accuracy: 0.8831 - val_loss: 0.5437 - val_accuracy: 0.8030\n",
      "Epoch 46/100\n",
      "400/400 [==============================] - 62s 156ms/step - loss: 0.2597 - accuracy: 0.8901 - val_loss: 0.5166 - val_accuracy: 0.8040\n",
      "Epoch 47/100\n",
      "400/400 [==============================] - 63s 158ms/step - loss: 0.2591 - accuracy: 0.8969 - val_loss: 0.5111 - val_accuracy: 0.7975\n",
      "Epoch 48/100\n",
      "400/400 [==============================] - 62s 155ms/step - loss: 0.2594 - accuracy: 0.8934 - val_loss: 0.5454 - val_accuracy: 0.7945\n",
      "Epoch 49/100\n",
      "400/400 [==============================] - 63s 158ms/step - loss: 0.2585 - accuracy: 0.8916 - val_loss: 0.5445 - val_accuracy: 0.7975\n",
      "Epoch 50/100\n",
      "400/400 [==============================] - 62s 154ms/step - loss: 0.2539 - accuracy: 0.8974 - val_loss: 0.5336 - val_accuracy: 0.7845\n",
      "Epoch 51/100\n",
      "400/400 [==============================] - 62s 156ms/step - loss: 0.2547 - accuracy: 0.8904 - val_loss: 0.5987 - val_accuracy: 0.8015\n",
      "Epoch 52/100\n",
      "400/400 [==============================] - 72s 180ms/step - loss: 0.2498 - accuracy: 0.8972 - val_loss: 0.5794 - val_accuracy: 0.7970\n",
      "Epoch 53/100\n",
      "400/400 [==============================] - 70s 176ms/step - loss: 0.2373 - accuracy: 0.9010 - val_loss: 0.5582 - val_accuracy: 0.8010\n",
      "Epoch 54/100\n",
      "400/400 [==============================] - 71s 177ms/step - loss: 0.2451 - accuracy: 0.8970 - val_loss: 0.5773 - val_accuracy: 0.8020\n",
      "Epoch 55/100\n",
      "400/400 [==============================] - 68s 170ms/step - loss: 0.2380 - accuracy: 0.9060 - val_loss: 0.5629 - val_accuracy: 0.7995\n",
      "Epoch 56/100\n",
      "400/400 [==============================] - 68s 170ms/step - loss: 0.2347 - accuracy: 0.9034 - val_loss: 0.5397 - val_accuracy: 0.7940\n"
     ]
    },
    {
     "name": "stdout",
     "output_type": "stream",
     "text": [
      "Epoch 57/100\n",
      "400/400 [==============================] - 66s 165ms/step - loss: 0.2287 - accuracy: 0.9065 - val_loss: 0.5475 - val_accuracy: 0.8060\n",
      "Epoch 58/100\n",
      "400/400 [==============================] - 69s 173ms/step - loss: 0.2260 - accuracy: 0.9076 - val_loss: 0.5976 - val_accuracy: 0.7885\n",
      "Epoch 59/100\n",
      "400/400 [==============================] - 68s 169ms/step - loss: 0.2221 - accuracy: 0.9069 - val_loss: 0.5555 - val_accuracy: 0.7940\n",
      "Epoch 60/100\n",
      "400/400 [==============================] - 63s 157ms/step - loss: 0.2264 - accuracy: 0.9064 - val_loss: 0.5553 - val_accuracy: 0.8035\n",
      "Epoch 61/100\n",
      "400/400 [==============================] - 62s 156ms/step - loss: 0.2195 - accuracy: 0.9104 - val_loss: 0.5952 - val_accuracy: 0.8105\n",
      "Epoch 62/100\n",
      "400/400 [==============================] - 62s 156ms/step - loss: 0.2202 - accuracy: 0.9115 - val_loss: 0.5896 - val_accuracy: 0.8030\n",
      "Epoch 63/100\n",
      "400/400 [==============================] - 62s 155ms/step - loss: 0.2020 - accuracy: 0.9166 - val_loss: 0.6615 - val_accuracy: 0.8030\n",
      "Epoch 64/100\n",
      "400/400 [==============================] - 61s 152ms/step - loss: 0.2156 - accuracy: 0.9097 - val_loss: 0.6891 - val_accuracy: 0.8000\n",
      "Epoch 65/100\n",
      "400/400 [==============================] - 62s 156ms/step - loss: 0.2139 - accuracy: 0.9143 - val_loss: 0.5849 - val_accuracy: 0.8095\n",
      "Epoch 66/100\n",
      "400/400 [==============================] - 62s 155ms/step - loss: 0.2059 - accuracy: 0.9143 - val_loss: 0.6366 - val_accuracy: 0.8025\n",
      "Epoch 67/100\n",
      "400/400 [==============================] - 61s 152ms/step - loss: 0.2001 - accuracy: 0.9215 - val_loss: 0.5902 - val_accuracy: 0.8075\n",
      "Epoch 68/100\n",
      "400/400 [==============================] - 62s 155ms/step - loss: 0.1977 - accuracy: 0.9168 - val_loss: 0.6109 - val_accuracy: 0.8015\n",
      "Epoch 69/100\n",
      "400/400 [==============================] - 63s 156ms/step - loss: 0.2147 - accuracy: 0.9159 - val_loss: 0.6387 - val_accuracy: 0.7945\n",
      "Epoch 70/100\n",
      "400/400 [==============================] - 62s 154ms/step - loss: 0.2076 - accuracy: 0.9120 - val_loss: 0.6369 - val_accuracy: 0.7985\n",
      "Epoch 71/100\n",
      "400/400 [==============================] - 61s 154ms/step - loss: 0.2030 - accuracy: 0.9197 - val_loss: 0.6448 - val_accuracy: 0.8030\n",
      "Epoch 72/100\n",
      "400/400 [==============================] - 62s 156ms/step - loss: 0.1865 - accuracy: 0.9279 - val_loss: 0.6212 - val_accuracy: 0.8065\n",
      "Epoch 73/100\n",
      "400/400 [==============================] - 64s 159ms/step - loss: 0.1964 - accuracy: 0.9195 - val_loss: 0.6680 - val_accuracy: 0.8040\n",
      "Epoch 74/100\n",
      "400/400 [==============================] - 63s 157ms/step - loss: 0.1975 - accuracy: 0.9212 - val_loss: 0.7121 - val_accuracy: 0.7865\n",
      "Epoch 75/100\n",
      "400/400 [==============================] - 63s 157ms/step - loss: 0.1908 - accuracy: 0.9218 - val_loss: 0.6666 - val_accuracy: 0.7995\n",
      "Epoch 76/100\n",
      "400/400 [==============================] - 62s 155ms/step - loss: 0.1822 - accuracy: 0.9276 - val_loss: 0.6559 - val_accuracy: 0.7880\n",
      "Epoch 77/100\n",
      "400/400 [==============================] - 62s 156ms/step - loss: 0.1919 - accuracy: 0.9226 - val_loss: 0.6945 - val_accuracy: 0.7960\n",
      "Epoch 78/100\n",
      "400/400 [==============================] - 62s 155ms/step - loss: 0.1938 - accuracy: 0.9214 - val_loss: 0.6047 - val_accuracy: 0.8000\n",
      "Epoch 79/100\n",
      "400/400 [==============================] - 62s 155ms/step - loss: 0.1853 - accuracy: 0.9241 - val_loss: 0.6136 - val_accuracy: 0.8070\n",
      "Epoch 80/100\n",
      "400/400 [==============================] - 62s 155ms/step - loss: 0.1785 - accuracy: 0.9281 - val_loss: 0.6507 - val_accuracy: 0.7925\n",
      "Epoch 81/100\n",
      "400/400 [==============================] - 61s 153ms/step - loss: 0.1836 - accuracy: 0.9270 - val_loss: 0.6070 - val_accuracy: 0.7980\n",
      "Epoch 82/100\n",
      "400/400 [==============================] - 62s 155ms/step - loss: 0.1713 - accuracy: 0.9296 - val_loss: 0.7638 - val_accuracy: 0.7960\n",
      "Epoch 83/100\n",
      "400/400 [==============================] - 62s 155ms/step - loss: 0.1836 - accuracy: 0.9244 - val_loss: 0.6577 - val_accuracy: 0.7990\n",
      "Epoch 84/100\n",
      "400/400 [==============================] - 63s 157ms/step - loss: 0.1817 - accuracy: 0.9250 - val_loss: 0.6616 - val_accuracy: 0.8115\n",
      "Epoch 85/100\n",
      "400/400 [==============================] - 62s 156ms/step - loss: 0.1775 - accuracy: 0.9309 - val_loss: 0.6322 - val_accuracy: 0.7995\n",
      "Epoch 86/100\n",
      "400/400 [==============================] - 62s 156ms/step - loss: 0.1709 - accuracy: 0.9293 - val_loss: 0.6730 - val_accuracy: 0.8000\n",
      "Epoch 87/100\n",
      "400/400 [==============================] - 62s 155ms/step - loss: 0.1829 - accuracy: 0.9285 - val_loss: 0.6465 - val_accuracy: 0.8030\n",
      "Epoch 88/100\n",
      "400/400 [==============================] - 62s 155ms/step - loss: 0.1707 - accuracy: 0.9306 - val_loss: 0.6676 - val_accuracy: 0.8105\n",
      "Epoch 89/100\n",
      "400/400 [==============================] - 64s 161ms/step - loss: 0.1661 - accuracy: 0.9349 - val_loss: 0.6971 - val_accuracy: 0.8020\n",
      "Epoch 90/100\n",
      "400/400 [==============================] - 62s 155ms/step - loss: 0.1721 - accuracy: 0.9326 - val_loss: 0.6851 - val_accuracy: 0.8090\n",
      "Epoch 91/100\n",
      "400/400 [==============================] - 62s 155ms/step - loss: 0.1680 - accuracy: 0.9312 - val_loss: 0.6744 - val_accuracy: 0.8095\n",
      "Epoch 92/100\n",
      "400/400 [==============================] - 62s 155ms/step - loss: 0.1765 - accuracy: 0.9281 - val_loss: 0.6401 - val_accuracy: 0.8130\n",
      "Epoch 93/100\n",
      "400/400 [==============================] - 63s 157ms/step - loss: 0.1555 - accuracy: 0.9404 - val_loss: 0.7896 - val_accuracy: 0.7995\n",
      "Epoch 94/100\n",
      "400/400 [==============================] - 63s 158ms/step - loss: 0.1656 - accuracy: 0.9325 - val_loss: 0.6293 - val_accuracy: 0.8005\n",
      "Epoch 95/100\n",
      "400/400 [==============================] - 64s 159ms/step - loss: 0.1692 - accuracy: 0.9346 - val_loss: 0.6907 - val_accuracy: 0.7985\n",
      "Epoch 96/100\n",
      "400/400 [==============================] - 70s 176ms/step - loss: 0.1666 - accuracy: 0.9330 - val_loss: 0.6273 - val_accuracy: 0.8095\n",
      "Epoch 97/100\n",
      "400/400 [==============================] - 71s 178ms/step - loss: 0.1566 - accuracy: 0.9386 - val_loss: 0.7284 - val_accuracy: 0.8035\n",
      "Epoch 98/100\n",
      "400/400 [==============================] - 71s 178ms/step - loss: 0.1615 - accuracy: 0.9351 - val_loss: 0.6480 - val_accuracy: 0.8055\n",
      "Epoch 99/100\n",
      "400/400 [==============================] - 71s 177ms/step - loss: 0.1582 - accuracy: 0.9377 - val_loss: 0.7406 - val_accuracy: 0.8115\n",
      "Epoch 100/100\n",
      "400/400 [==============================] - 68s 169ms/step - loss: 0.1566 - accuracy: 0.9369 - val_loss: 0.6688 - val_accuracy: 0.7920\n"
     ]
    }
   ],
   "source": [
    "callbacks = [\n",
    "    tf.keras.callbacks.EarlyStopping(monitor='val_loss', min_delta = 0, patience=5),\n",
    "]                                                   \n",
    "                                                   \n",
    "history1 = classifier.fit(x=training_dataset,\n",
    "                         steps_per_epoch=8000/batch_size,\n",
    "                         epochs=100,\n",
    "                         validation_data=testing_dataset,\n",
    "                         validation_steps=2000/batch_size,\n",
    "                         workers=4) # \"Si pedimos más de un proceso el rendimiento mejora un poco\n"
   ]
  },
  {
   "cell_type": "markdown",
   "metadata": {},
   "source": [
    "Ploteamos el resultado"
   ]
  },
  {
   "cell_type": "code",
   "execution_count": 8,
   "metadata": {},
   "outputs": [
    {
     "data": {
      "image/png": "[encoded data removed]",
      "text/plain": [
       "<Figure size 1296x432 with 2 Axes>"
      ]
     },
     "metadata": {
      "needs_background": "light"
     },
     "output_type": "display_data"
    }
   ],
   "source": [
    "def plot_resultados_training(history):\n",
    "    fig, axes = plt.subplots(1,2, figsize=(18,6))\n",
    "    axes[0].plot(history.history['accuracy'], label='Train')\n",
    "    axes[0].plot(history.history['val_accuracy'], label='Validation')\n",
    "    axes[0].legend()\n",
    "    axes[0].set_title('Accuracy')\n",
    "    axes[1].plot(history.history['loss'], label='Train')\n",
    "    axes[1].plot(history.history['val_loss'], label='Validation')\n",
    "    axes[1].set_title('Cross entropy')\n",
    "\n",
    "plot_resultados_training(history1)"
   ]
  },
  {
   "cell_type": "code",
   "execution_count": 9,
   "metadata": {},
   "outputs": [
    {
     "name": "stdout",
     "output_type": "stream",
     "text": [
      "WARNING:tensorflow:From /home/llbernat/anaconda3/envs/musi-ap/lib/python3.7/site-packages/tensorflow/python/training/tracking/tracking.py:111: Model.state_updates (from tensorflow.python.keras.engine.training) is deprecated and will be removed in a future version.\n",
      "Instructions for updating:\n",
      "This property should not be used in TensorFlow 2.0, as updates are applied automatically.\n",
      "WARNING:tensorflow:From /home/llbernat/anaconda3/envs/musi-ap/lib/python3.7/site-packages/tensorflow/python/training/tracking/tracking.py:111: Layer.updates (from tensorflow.python.keras.engine.base_layer) is deprecated and will be removed in a future version.\n",
      "Instructions for updating:\n",
      "This property should not be used in TensorFlow 2.0, as updates are applied automatically.\n",
      "INFO:tensorflow:Assets written to: ./models/clasificador5/assets\n"
     ]
    }
   ],
   "source": [
    "classifier.save('./models/clasificador5')"
   ]
  },
  {
   "cell_type": "markdown",
   "metadata": {},
   "source": [
    "## Comentario\n",
    "La reducción del número de imágenes por lote no ha dado el resultado esperado. \n",
    "De hecho en esta ejecución ha arrojado precisiones un poco peores que en el anterior\n",
    "y se sigue produciendo sobre-entrenamiento, que despunta a partir de la epoch 20. \n",
    "\n",
    "\n",
    "## Propuesta de mejora\n",
    "Un número más rico de *features* a la salida de la convolución también puede favorecer que la red neuronal valore otros patrones de las imagenes que ayuden a evitar el sobre-entrenamiento.\n",
    "\n",
    "Porponemos la creacion de una tercera capa de convolucion mas rica en filtros (actualmente trabajamos con 2)\n",
    "y volver al tamaño de lote por defecto en keras (32)."
   ]
  }
 ],
 "metadata": {
  "accelerator": "GPU",
  "colab": {
   "name": "CNN.ipynb",
   "provenance": [],
   "toc_visible": true
  },
  "kernelspec": {
   "display_name": "Python 3",
   "language": "python",
   "name": "python3"
  },
  "language_info": {
   "codemirror_mode": {
    "name": "ipython",
    "version": 3
   },
   "file_extension": ".py",
   "mimetype": "text/x-python",
   "name": "python",
   "nbconvert_exporter": "python",
   "pygments_lexer": "ipython3",
   "version": "3.7.10"
  }
 },
 "nbformat": 4,
 "nbformat_minor": 4
}