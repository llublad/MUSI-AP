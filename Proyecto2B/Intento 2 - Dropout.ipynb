{
 "cells": [
  {
   "cell_type": "markdown",
   "metadata": {},
   "source": [
    "# Intento 2"
   ]
  },
  {
   "cell_type": "markdown",
   "metadata": {
    "colab_type": "text",
    "id": "dsvzwGy-bWrT"
   },
   "source": [
    "## 0. Descarga del dataset"
   ]
  },
  {
   "cell_type": "code",
   "execution_count": 2,
   "metadata": {
    "colab": {
     "base_uri": "https://localhost:8080/",
     "height": 122
    },
    "colab_type": "code",
    "id": "w-fLk6oobhF2",
    "outputId": "0c80eec8-91fa-4455-be82-940db7c2c4e0"
   },
   "outputs": [],
   "source": [
    "# from google.colab import drive\n",
    "# drive.mount('/content/drive')\n",
    "\n",
    "train_ds_path  ='../../deeplearning-az/datasets/' \\\n",
    "                'Part 2 - Convolutional Neural Networks (CNN)/dataset/training_set'\n",
    "test_ds_path   ='../../deeplearning-az/datasets/' \\\n",
    "                'Part 2 - Convolutional Neural Networks (CNN)/dataset/test_set'\n",
    "cat_or_dog_path='../../deeplearning-az/datasets/' \\\n",
    "                'Part 2 - Convolutional Neural Networks (CNN)/dataset/single_prediction/cat_or_dog_1.jpg'\n",
    "\n",
    "\n",
    "train_ds_path  ='.\\\\data\\\\training_set'\n",
    "test_ds_path   ='.\\\\data\\\\test_set'\n",
    "cat_or_dog_path='.\\\\data\\\\single_prediction\\\\cat_or_dog_1.jpg'\n"
   ]
  },
  {
   "cell_type": "markdown",
   "metadata": {},
   "source": [
    "Primero, importar las librerías y paquetes"
   ]
  },
  {
   "cell_type": "code",
   "execution_count": 3,
   "metadata": {},
   "outputs": [],
   "source": [
    "from keras.models import Sequential\n",
    "from keras.layers import Conv2D\n",
    "from keras.layers import MaxPooling2D\n",
    "from keras.layers import Flatten\n",
    "from keras.layers import Dense\n",
    "from keras.layers import BatchNormalization\n",
    "from keras.layers import GlobalAveragePooling2D\n",
    "from keras.layers import Dropout\n",
    "# Nota, algunas capas no están importadas aquí y se importan directamente en el código con tf.keras.laters.[CAPA]\n",
    "\n",
    "import matplotlib.pyplot as plt\n",
    "import tensorflow as tf\n",
    "import os\n",
    "import numpy as np\n",
    "import random as rn"
   ]
  },
  {
   "cell_type": "markdown",
   "metadata": {},
   "source": [
    "Fijamos seeds para poder reproducir resultados (aunque aun así a veces no lo conseguimos, probablementa haya inicializaciones que no dependan de estas seeds)"
   ]
  },
  {
   "cell_type": "code",
   "execution_count": 4,
   "metadata": {},
   "outputs": [],
   "source": [
    "os.environ['PYTHONHASHSEED'] = '0'\n",
    "np.random.seed(42)\n",
    "rn.seed(12345)\n",
    "tf.random.set_seed(1234)"
   ]
  },
  {
   "cell_type": "markdown",
   "metadata": {
    "colab_type": "text",
    "id": "kj7yYesKbctW"
   },
   "source": [
    "## 1. Construcción del modelo CNN añadiendo una capa de dropout\n"
   ]
  },
  {
   "cell_type": "markdown",
   "metadata": {
    "colab_type": "text",
    "id": "AtczsRskbj2F"
   },
   "source": [
    "El modelo empleado es el mismo que el modelo base, con la única diferencia de que añadimos una capa de dropout (20%) antes de la última neurona, tratando de reducir el *overfitting*.\n",
    "\n",
    "El tamaño de imagen que emplearemos será de 64x64."
   ]
  },
  {
   "cell_type": "code",
   "execution_count": 5,
   "metadata": {
    "colab": {},
    "colab_type": "code",
    "id": "2kYdJsjsZCR8"
   },
   "outputs": [],
   "source": [
    "frame_size = (64, 64)\n",
    "\"\"\"\n",
    "esta dupla nos permitirá parametrizar la resolución\n",
    "de entrada de las imágenes\n",
    "\"\"\"\n",
    "\n",
    "def crear_clasificador_intento2():\n",
    "    classifier = Sequential()\n",
    "    classifier.add(Conv2D(filters = 32,kernel_size = (3, 3), \n",
    "                      input_shape = (*frame_size, 3), activation = \"relu\"))\n",
    "    classifier.add(MaxPooling2D(pool_size = (2,2)))\n",
    "    classifier.add(Conv2D(filters = 32,kernel_size = (3, 3), activation = \"relu\"))\n",
    "    classifier.add(MaxPooling2D(pool_size = (2,2)))\n",
    "    classifier.add(Flatten())\n",
    "    classifier.add(Dense(units = 128, activation = \"relu\"))\n",
    "    classifier.add(Dropout(0.2))\n",
    "    classifier.add(Dense(units = 1, activation = \"sigmoid\"))    \n",
    "    return classifier"
   ]
  },
  {
   "cell_type": "markdown",
   "metadata": {
    "colab_type": "text",
    "id": "p7INHvHmcFdL"
   },
   "source": [
    "## 2. Entrenamiento del intento 2\n",
    "\n",
    "En primer lugar instanciamos nuestro modelo y compilamos usando:\n",
    "* Un optimizador Adam. La learning rate que emplea por defecto es 0.001\n",
    "* Binary cross entropy como función de coste a minimizar.  "
   ]
  },
  {
   "cell_type": "code",
   "execution_count": 6,
   "metadata": {
    "colab": {},
    "colab_type": "code",
    "id": "Uc7pBop7ZLeN"
   },
   "outputs": [
    {
     "name": "stdout",
     "output_type": "stream",
     "text": [
      "Model: \"sequential\"\n",
      "_________________________________________________________________\n",
      "Layer (type)                 Output Shape              Param #   \n",
      "=================================================================\n",
      "conv2d (Conv2D)              (None, 62, 62, 32)        896       \n",
      "_________________________________________________________________\n",
      "max_pooling2d (MaxPooling2D) (None, 31, 31, 32)        0         \n",
      "_________________________________________________________________\n",
      "conv2d_1 (Conv2D)            (None, 29, 29, 32)        9248      \n",
      "_________________________________________________________________\n",
      "max_pooling2d_1 (MaxPooling2 (None, 14, 14, 32)        0         \n",
      "_________________________________________________________________\n",
      "flatten (Flatten)            (None, 6272)              0         \n",
      "_________________________________________________________________\n",
      "dense (Dense)                (None, 128)               802944    \n",
      "_________________________________________________________________\n",
      "dropout (Dropout)            (None, 128)               0         \n",
      "_________________________________________________________________\n",
      "dense_1 (Dense)              (None, 1)                 129       \n",
      "=================================================================\n",
      "Total params: 813,217\n",
      "Trainable params: 813,217\n",
      "Non-trainable params: 0\n",
      "_________________________________________________________________\n"
     ]
    }
   ],
   "source": [
    "classifier = crear_clasificador_intento2()\n",
    "classifier.compile(optimizer = \"adam\", \n",
    "                   loss = \"binary_crossentropy\", \n",
    "                   metrics = [\"accuracy\"])\n",
    "classifier.summary()"
   ]
  },
  {
   "cell_type": "markdown",
   "metadata": {},
   "source": [
    "En segundo lugar, generamos los datasets de entrenamiento y test. Emplearemos un tamaño de batch de 32"
   ]
  },
  {
   "cell_type": "code",
   "execution_count": 7,
   "metadata": {
    "colab": {
     "base_uri": "https://localhost:8080/",
     "height": 425
    },
    "colab_type": "code",
    "id": "BYgCwVDFZMrU",
    "outputId": "641d711f-0723-447f-811b-1c1aaa639274"
   },
   "outputs": [
    {
     "name": "stdout",
     "output_type": "stream",
     "text": [
      "Found 8000 images belonging to 2 classes.\n",
      "Found 2000 images belonging to 2 classes.\n"
     ]
    }
   ],
   "source": [
    "from keras.preprocessing.image import ImageDataGenerator\n",
    "\n",
    "batch_size=32 \n",
    "\n",
    "train_datagen = ImageDataGenerator(\n",
    "        rescale=1./255,\n",
    "        shear_range=0.2,\n",
    "        zoom_range=0.2,\n",
    "        horizontal_flip=True)\n",
    "\n",
    "test_datagen = ImageDataGenerator(rescale=1./255)\n",
    "\n",
    "training_dataset = train_datagen.flow_from_directory(train_ds_path,\n",
    "                                                     target_size=frame_size,\n",
    "                                                     batch_size=batch_size,\n",
    "                                                     class_mode='binary')\n",
    "\n",
    "testing_dataset = test_datagen.flow_from_directory(test_ds_path,\n",
    "                                                   target_size=frame_size,                                                   \n",
    "                                                   batch_size=batch_size,\n",
    "                                                   class_mode='binary')"
   ]
  },
  {
   "cell_type": "markdown",
   "metadata": {},
   "source": [
    "Definimos el callback y realizamos el entrenamiento con las condiciones descritas en la sección de introducción."
   ]
  },
  {
   "cell_type": "code",
   "execution_count": 8,
   "metadata": {},
   "outputs": [
    {
     "name": "stdout",
     "output_type": "stream",
     "text": [
      "Epoch 1/100\n",
      "250/250 [==============================] - 48s 189ms/step - loss: 0.6844 - accuracy: 0.5561 - val_loss: 0.6235 - val_accuracy: 0.6495\n",
      "Epoch 2/100\n",
      "250/250 [==============================] - 45s 178ms/step - loss: 0.6108 - accuracy: 0.6583 - val_loss: 0.5650 - val_accuracy: 0.7180\n",
      "Epoch 3/100\n",
      "250/250 [==============================] - 46s 185ms/step - loss: 0.5574 - accuracy: 0.7185 - val_loss: 0.5407 - val_accuracy: 0.7310\n",
      "Epoch 4/100\n",
      "250/250 [==============================] - 44s 176ms/step - loss: 0.5351 - accuracy: 0.7301 - val_loss: 0.5244 - val_accuracy: 0.7455\n",
      "Epoch 5/100\n",
      "250/250 [==============================] - 40s 161ms/step - loss: 0.5041 - accuracy: 0.7529 - val_loss: 0.5006 - val_accuracy: 0.7570\n",
      "Epoch 6/100\n",
      "250/250 [==============================] - 46s 184ms/step - loss: 0.4851 - accuracy: 0.7672 - val_loss: 0.5322 - val_accuracy: 0.7285\n",
      "Epoch 7/100\n",
      "250/250 [==============================] - 58s 228ms/step - loss: 0.4729 - accuracy: 0.7789 - val_loss: 0.4866 - val_accuracy: 0.7670\n",
      "Epoch 8/100\n",
      "250/250 [==============================] - 47s 185ms/step - loss: 0.4797 - accuracy: 0.7651 - val_loss: 0.4638 - val_accuracy: 0.7815\n",
      "Epoch 9/100\n",
      "250/250 [==============================] - 51s 203ms/step - loss: 0.4483 - accuracy: 0.7915 - val_loss: 0.4863 - val_accuracy: 0.7760\n",
      "Epoch 10/100\n",
      "250/250 [==============================] - 52s 207ms/step - loss: 0.4347 - accuracy: 0.7928 - val_loss: 0.5078 - val_accuracy: 0.7655\n",
      "Epoch 11/100\n",
      "250/250 [==============================] - 51s 202ms/step - loss: 0.4287 - accuracy: 0.7996 - val_loss: 0.4884 - val_accuracy: 0.7815\n",
      "Epoch 12/100\n",
      "250/250 [==============================] - 54s 216ms/step - loss: 0.4149 - accuracy: 0.8046 - val_loss: 0.5067 - val_accuracy: 0.7720\n",
      "Epoch 13/100\n",
      "250/250 [==============================] - 60s 235ms/step - loss: 0.4080 - accuracy: 0.8063 - val_loss: 0.4688 - val_accuracy: 0.7960\n"
     ]
    }
   ],
   "source": [
    "callbacks = [\n",
    "    tf.keras.callbacks.EarlyStopping(monitor='val_loss', min_delta = 0, patience=5),\n",
    "]                                                   \n",
    "                                                   \n",
    "history2 = classifier.fit(x=training_dataset,\n",
    "                         steps_per_epoch=8000/batch_size,\n",
    "                         epochs=100,\n",
    "                         validation_data=testing_dataset,\n",
    "                         validation_steps=2000/batch_size,\n",
    "                         workers=4,\n",
    "                         callbacks=callbacks) # \"Si pedimos más de un proceso el rendimiento mejora un poco\n"
   ]
  },
  {
   "cell_type": "markdown",
   "metadata": {},
   "source": [
    "Ploteamos el resultado"
   ]
  },
  {
   "cell_type": "code",
   "execution_count": 9,
   "metadata": {},
   "outputs": [
    {
     "data": {
      "image/png": "[encoded data removed]",
      "text/plain": [
       "<Figure size 1296x432 with 2 Axes>"
      ]
     },
     "metadata": {
      "needs_background": "light"
     },
     "output_type": "display_data"
    }
   ],
   "source": [
    "def plot_resultados_training(history):\n",
    "    fig, axes = plt.subplots(1,2, figsize=(18,6))\n",
    "    axes[0].plot(history.history['accuracy'], label='Train')\n",
    "    axes[0].plot(history.history['val_accuracy'], label='Validation')\n",
    "    axes[0].legend()\n",
    "    axes[0].set_title('Accuracy')\n",
    "    axes[1].plot(history.history['loss'], label='Train')\n",
    "    axes[1].plot(history.history['val_loss'], label='Validation')\n",
    "    axes[1].set_title('Cross entropy')\n",
    "plot_resultados_training(history2)"
   ]
  },
  {
   "cell_type": "code",
   "execution_count": 10,
   "metadata": {},
   "outputs": [
    {
     "name": "stdout",
     "output_type": "stream",
     "text": [
      "INFO:tensorflow:Assets written to: .\\models\\clasificador2\\assets\n"
     ]
    }
   ],
   "source": [
    "classifier.save('.\\\\models\\\\clasificador2')"
   ]
  },
  {
   "cell_type": "markdown",
   "metadata": {},
   "source": [
    "### Comentario\n",
    "El resultado de la precisión de la validación ha mejorado un uno por ciento y el entrenamiento ha bajado més de tres puntos. Así pues parece que hemos conseguido reducir el sobre-entrenamiento. \n",
    "\n",
    "### Propuesta de mejora\n",
    "Pensamos que para seguir reduciendo el diferencial entre las precisiones (y los valores de pérdida) entre entrenamiento y validación podemos aumentar algo más el tanto por ciento de pesos no actualizados \n",
    "en la siguiente versión. \n",
    "\n",
    "También hemos visto que las imágenes tienen en su mayoría resoluciones de 500 por 400 píxeles aproximadamente y quizás también estemos perdiendo demasiada información al pasarlas a 64x64, \n",
    "así que en la próxima versión las trataremos como iḿagenes de 96x96 píxeles. "
   ]
  }
 ],
 "metadata": {
  "accelerator": "GPU",
  "colab": {
   "name": "CNN.ipynb",
   "provenance": [],
   "toc_visible": true
  },
  "kernelspec": {
   "display_name": "Python 3",
   "language": "python",
   "name": "python3"
  },
  "language_info": {
   "codemirror_mode": {
    "name": "ipython",
    "version": 3
   },
   "file_extension": ".py",
   "mimetype": "text/x-python",
   "name": "python",
   "nbconvert_exporter": "python",
   "pygments_lexer": "ipython3",
   "version": "3.6.9"
  }
 },
 "nbformat": 4,
 "nbformat_minor": 4
}
