{
 "cells": [
  {
   "cell_type": "markdown",
   "metadata": {},
   "source": [
    "# Intento 6"
   ]
  },
  {
   "cell_type": "markdown",
   "metadata": {},
   "source": [
    "En este intento volvemos al batch_size\n",
    "de 32 y añadimos una tercera capa de convolución\n",
    "de 64 filtros (junto con otra de Maxpooling 2x2).\n",
    "También probamos a reducir el índice de olvido al 20% \n",
    "para poder evaluar mejor la aportación de esta \n",
    "nueva capa al modelo."
   ]
  },
  {
   "cell_type": "markdown",
   "metadata": {
    "colab_type": "text",
    "id": "dsvzwGy-bWrT"
   },
   "source": [
    "## 0. Descarga del dataset"
   ]
  },
  {
   "cell_type": "code",
   "execution_count": 1,
   "metadata": {
    "colab": {
     "base_uri": "https://localhost:8080/",
     "height": 122
    },
    "colab_type": "code",
    "id": "w-fLk6oobhF2",
    "outputId": "0c80eec8-91fa-4455-be82-940db7c2c4e0"
   },
   "outputs": [],
   "source": [
    "# from google.colab import drive\n",
    "# drive.mount('/content/drive')\n",
    "\n",
    "train_ds_path  ='../../deeplearning-az/datasets/Part 2 - Convolutional Neural Networks (CNN)/dataset/training_set'\n",
    "test_ds_path   ='../../deeplearning-az/datasets/Part 2 - Convolutional Neural Networks (CNN)/dataset/test_set'\n",
    "cat_or_dog_path='../../deeplearning-az/datasets/Part 2 - Convolutional Neural Networks (CNN)/dataset/single_prediction/cat_or_dog_1.jpg'\n",
    "\n",
    "#train_ds_path  ='C:/Users/Usuario/Documents/Master/Aprendizaje Profundo/Udemy/deeplearning-az/datasets/Part 2 - Convolutional Neural Networks (CNN)/dataset/training_set'\n",
    "#test_ds_path   ='C:/Users/Usuario/Documents/Master/Aprendizaje Profundo/Udemy/deeplearning-az/datasets/Part 2 - Convolutional Neural Networks (CNN)/dataset/test_set'\n",
    "#cat_or_dog_path='C:/Users/Usuario/Documents/Master/Aprendizaje Profundo/Udemy/deeplearning-az/datasets/Part 2 - Convolutional Neural Networks (CNN)/dataset/single_prediction/cat_or_dog_1.jpg'\n",
    "\n",
    "#train_ds_path  ='.\\\\data\\\\training_set'\n",
    "#test_ds_path   ='.\\\\data\\\\test_set'\n",
    "#cat_or_dog_path='.\\\\data\\\\single_prediction\\\\cat_or_dog_1.jpg'\n"
   ]
  },
  {
   "cell_type": "markdown",
   "metadata": {},
   "source": [
    "Primero, importar las librerías y paquetes"
   ]
  },
  {
   "cell_type": "code",
   "execution_count": 2,
   "metadata": {},
   "outputs": [],
   "source": [
    "from keras.models import Sequential\n",
    "from keras.layers import Conv2D\n",
    "from keras.layers import MaxPooling2D\n",
    "from keras.layers import Flatten\n",
    "from keras.layers import Dense\n",
    "from keras.layers import BatchNormalization\n",
    "from keras.layers import GlobalAveragePooling2D\n",
    "from keras.layers import Dropout\n",
    "# Nota, algunas capas no están importadas aquí y se importan directamente en el código con tf.keras.laters.[CAPA]\n",
    "\n",
    "import matplotlib.pyplot as plt\n",
    "import tensorflow as tf\n",
    "import os\n",
    "import numpy as np\n",
    "import random as rn"
   ]
  },
  {
   "cell_type": "markdown",
   "metadata": {},
   "source": [
    "Fijamos seeds para poder reproducir resultados (aunque aun así a veces no lo conseguimos, probablementa haya inicializaciones que no dependan de estas seeds)"
   ]
  },
  {
   "cell_type": "code",
   "execution_count": 3,
   "metadata": {},
   "outputs": [],
   "source": [
    "os.environ['PYTHONHASHSEED'] = '0'\n",
    "np.random.seed(42)\n",
    "rn.seed(12345)\n",
    "tf.random.set_seed(1234)"
   ]
  },
  {
   "cell_type": "markdown",
   "metadata": {
    "colab_type": "text",
    "id": "kj7yYesKbctW"
   },
   "source": [
    "## 1. Construcción del modelo CNN añadiendo un tamaño de imagen mayor\n"
   ]
  },
  {
   "cell_type": "markdown",
   "metadata": {
    "colab_type": "text",
    "id": "AtczsRskbj2F"
   },
   "source": [
    "El tamaño de imagen que emplearemos será de 96x96, y el dropout rate es del 50%"
   ]
  },
  {
   "cell_type": "code",
   "execution_count": 4,
   "metadata": {
    "colab": {},
    "colab_type": "code",
    "id": "2kYdJsjsZCR8"
   },
   "outputs": [],
   "source": [
    "frame_size = (96, 96)\n",
    "\"\"\"\n",
    "esta dupla nos permitirá parametrizar la resolución\n",
    "de entrada de las imágenes\n",
    "\"\"\"\n",
    "\n",
    "def crear_clasificador_intento6():\n",
    "    classifier = Sequential()\n",
    "    classifier.add(Conv2D(filters = 32,kernel_size = (3, 3), \n",
    "                      input_shape = (*frame_size, 3), activation = \"relu\"))\n",
    "    classifier.add(MaxPooling2D(pool_size = (2,2)))\n",
    "    classifier.add(Conv2D(filters = 32,kernel_size = (3, 3), activation = \"relu\"))\n",
    "    classifier.add(MaxPooling2D(pool_size = (2,2)))\n",
    "    classifier.add(Conv2D(filters = 64,kernel_size = (3, 3), activation = \"relu\"))\n",
    "    classifier.add(MaxPooling2D(pool_size = (2,2)))\n",
    "    classifier.add(Flatten())\n",
    "    classifier.add(Dense(units = 128, activation = \"relu\"))\n",
    "    classifier.add(Dropout(0.2))\n",
    "    classifier.add(Dense(units = 1, activation = \"sigmoid\"))    \n",
    "    return classifier"
   ]
  },
  {
   "cell_type": "markdown",
   "metadata": {
    "colab_type": "text",
    "id": "p7INHvHmcFdL"
   },
   "source": [
    "## 2. Entrenamiento del intento 6\n",
    "\n",
    "En primer lugar instanciamos nuestro modelo y compilamos usando:\n",
    "* Un optimizador Adam. La learning rate que emplea por defecto es 0.001\n",
    "* Binary cross entropy como función de coste a minimizar.  "
   ]
  },
  {
   "cell_type": "code",
   "execution_count": 5,
   "metadata": {
    "colab": {},
    "colab_type": "code",
    "id": "Uc7pBop7ZLeN"
   },
   "outputs": [
    {
     "name": "stdout",
     "output_type": "stream",
     "text": [
      "Model: \"sequential\"\n",
      "_________________________________________________________________\n",
      "Layer (type)                 Output Shape              Param #   \n",
      "=================================================================\n",
      "conv2d (Conv2D)              (None, 94, 94, 32)        896       \n",
      "_________________________________________________________________\n",
      "max_pooling2d (MaxPooling2D) (None, 47, 47, 32)        0         \n",
      "_________________________________________________________________\n",
      "conv2d_1 (Conv2D)            (None, 45, 45, 32)        9248      \n",
      "_________________________________________________________________\n",
      "max_pooling2d_1 (MaxPooling2 (None, 22, 22, 32)        0         \n",
      "_________________________________________________________________\n",
      "conv2d_2 (Conv2D)            (None, 20, 20, 64)        18496     \n",
      "_________________________________________________________________\n",
      "max_pooling2d_2 (MaxPooling2 (None, 10, 10, 64)        0         \n",
      "_________________________________________________________________\n",
      "flatten (Flatten)            (None, 6400)              0         \n",
      "_________________________________________________________________\n",
      "dense (Dense)                (None, 128)               819328    \n",
      "_________________________________________________________________\n",
      "dropout (Dropout)            (None, 128)               0         \n",
      "_________________________________________________________________\n",
      "dense_1 (Dense)              (None, 1)                 129       \n",
      "=================================================================\n",
      "Total params: 848,097\n",
      "Trainable params: 848,097\n",
      "Non-trainable params: 0\n",
      "_________________________________________________________________\n"
     ]
    }
   ],
   "source": [
    "classifier = crear_clasificador_intento6()\n",
    "classifier.compile(optimizer = \"adam\", \n",
    "                   loss = \"binary_crossentropy\", \n",
    "                   metrics = [\"accuracy\"])\n",
    "classifier.summary()"
   ]
  },
  {
   "cell_type": "markdown",
   "metadata": {},
   "source": [
    "En segundo lugar, generamos los datasets de entrenamiento y test.\n",
    "Emplearemos un **tamaño de batch de 32**"
   ]
  },
  {
   "cell_type": "code",
   "execution_count": 6,
   "metadata": {
    "colab": {
     "base_uri": "https://localhost:8080/",
     "height": 425
    },
    "colab_type": "code",
    "id": "BYgCwVDFZMrU",
    "outputId": "641d711f-0723-447f-811b-1c1aaa639274"
   },
   "outputs": [
    {
     "name": "stdout",
     "output_type": "stream",
     "text": [
      "Found 8000 images belonging to 2 classes.\n",
      "Found 2000 images belonging to 2 classes.\n"
     ]
    }
   ],
   "source": [
    "from keras.preprocessing.image import ImageDataGenerator\n",
    "\n",
    "batch_size=32\n",
    "\n",
    "train_datagen = ImageDataGenerator(\n",
    "        rescale=1./255,\n",
    "        shear_range=0.2,\n",
    "        zoom_range=0.2,\n",
    "        horizontal_flip=True)\n",
    "\n",
    "test_datagen = ImageDataGenerator(rescale=1./255)\n",
    "\n",
    "training_dataset = train_datagen.flow_from_directory(train_ds_path,\n",
    "                                                     target_size=frame_size,\n",
    "                                                     batch_size=batch_size,\n",
    "                                                     class_mode='binary')\n",
    "\n",
    "testing_dataset = test_datagen.flow_from_directory(test_ds_path,\n",
    "                                                   target_size=frame_size,                                                   \n",
    "                                                   batch_size=batch_size,\n",
    "                                                   class_mode='binary')"
   ]
  },
  {
   "cell_type": "markdown",
   "metadata": {},
   "source": [
    "Definimos el callback y realizamos el entrenamiento con las condiciones descritas en la sección de introducción."
   ]
  },
  {
   "cell_type": "code",
   "execution_count": 7,
   "metadata": {},
   "outputs": [
    {
     "name": "stdout",
     "output_type": "stream",
     "text": [
      "Epoch 1/100\n",
      "250/250 [==============================] - 64s 257ms/step - loss: 0.6726 - accuracy: 0.5761 - val_loss: 0.6280 - val_accuracy: 0.6505\n",
      "Epoch 2/100\n",
      "250/250 [==============================] - 64s 258ms/step - loss: 0.6050 - accuracy: 0.6625 - val_loss: 0.5728 - val_accuracy: 0.7005\n",
      "Epoch 3/100\n",
      "250/250 [==============================] - 65s 259ms/step - loss: 0.5668 - accuracy: 0.7040 - val_loss: 0.5317 - val_accuracy: 0.7295\n",
      "Epoch 4/100\n",
      "250/250 [==============================] - 64s 256ms/step - loss: 0.5340 - accuracy: 0.7343 - val_loss: 0.5045 - val_accuracy: 0.7520\n",
      "Epoch 5/100\n",
      "250/250 [==============================] - 67s 268ms/step - loss: 0.5000 - accuracy: 0.7555 - val_loss: 0.5228 - val_accuracy: 0.7430\n",
      "Epoch 6/100\n",
      "250/250 [==============================] - 63s 253ms/step - loss: 0.4728 - accuracy: 0.7690 - val_loss: 0.4564 - val_accuracy: 0.7880\n",
      "Epoch 7/100\n",
      "250/250 [==============================] - 61s 244ms/step - loss: 0.4607 - accuracy: 0.7843 - val_loss: 0.4446 - val_accuracy: 0.7940\n",
      "Epoch 8/100\n",
      "250/250 [==============================] - 61s 245ms/step - loss: 0.4375 - accuracy: 0.7983 - val_loss: 0.4250 - val_accuracy: 0.7970\n",
      "Epoch 9/100\n",
      "250/250 [==============================] - 61s 245ms/step - loss: 0.4145 - accuracy: 0.8090 - val_loss: 0.4376 - val_accuracy: 0.7995\n",
      "Epoch 10/100\n",
      "250/250 [==============================] - 61s 246ms/step - loss: 0.4024 - accuracy: 0.8139 - val_loss: 0.4393 - val_accuracy: 0.7955\n",
      "Epoch 11/100\n",
      "250/250 [==============================] - 62s 248ms/step - loss: 0.3884 - accuracy: 0.8231 - val_loss: 0.4128 - val_accuracy: 0.8160\n",
      "Epoch 12/100\n",
      "250/250 [==============================] - 59s 237ms/step - loss: 0.3870 - accuracy: 0.8267 - val_loss: 0.4154 - val_accuracy: 0.8145\n",
      "Epoch 13/100\n",
      "250/250 [==============================] - 62s 247ms/step - loss: 0.3690 - accuracy: 0.8353 - val_loss: 0.3837 - val_accuracy: 0.8400\n",
      "Epoch 14/100\n",
      "250/250 [==============================] - 59s 234ms/step - loss: 0.3609 - accuracy: 0.8356 - val_loss: 0.4149 - val_accuracy: 0.8250\n",
      "Epoch 15/100\n",
      "250/250 [==============================] - 59s 237ms/step - loss: 0.3565 - accuracy: 0.8397 - val_loss: 0.3835 - val_accuracy: 0.8280\n",
      "Epoch 16/100\n",
      "250/250 [==============================] - 59s 236ms/step - loss: 0.3358 - accuracy: 0.8506 - val_loss: 0.3798 - val_accuracy: 0.8485\n",
      "Epoch 17/100\n",
      "250/250 [==============================] - 59s 236ms/step - loss: 0.3426 - accuracy: 0.8489 - val_loss: 0.3912 - val_accuracy: 0.8290\n",
      "Epoch 18/100\n",
      "250/250 [==============================] - 59s 237ms/step - loss: 0.3145 - accuracy: 0.8602 - val_loss: 0.4399 - val_accuracy: 0.8220\n",
      "Epoch 19/100\n",
      "250/250 [==============================] - 59s 236ms/step - loss: 0.3087 - accuracy: 0.8680 - val_loss: 0.3955 - val_accuracy: 0.8365\n",
      "Epoch 20/100\n",
      "250/250 [==============================] - 59s 236ms/step - loss: 0.2976 - accuracy: 0.8716 - val_loss: 0.4297 - val_accuracy: 0.8375\n",
      "Epoch 21/100\n",
      "250/250 [==============================] - 59s 236ms/step - loss: 0.2965 - accuracy: 0.8706 - val_loss: 0.3784 - val_accuracy: 0.8370\n",
      "Epoch 22/100\n",
      "250/250 [==============================] - 59s 237ms/step - loss: 0.2806 - accuracy: 0.8798 - val_loss: 0.4103 - val_accuracy: 0.8395\n",
      "Epoch 23/100\n",
      "250/250 [==============================] - 59s 236ms/step - loss: 0.2738 - accuracy: 0.8821 - val_loss: 0.3818 - val_accuracy: 0.8495\n",
      "Epoch 24/100\n",
      "250/250 [==============================] - 66s 264ms/step - loss: 0.2850 - accuracy: 0.8727 - val_loss: 0.3671 - val_accuracy: 0.8525\n",
      "Epoch 25/100\n",
      "250/250 [==============================] - 66s 262ms/step - loss: 0.2749 - accuracy: 0.8855 - val_loss: 0.4001 - val_accuracy: 0.8485\n",
      "Epoch 26/100\n",
      "250/250 [==============================] - 64s 255ms/step - loss: 0.2626 - accuracy: 0.8884 - val_loss: 0.4052 - val_accuracy: 0.8395\n",
      "Epoch 27/100\n",
      "250/250 [==============================] - 64s 257ms/step - loss: 0.2379 - accuracy: 0.8994 - val_loss: 0.4071 - val_accuracy: 0.8440\n",
      "Epoch 28/100\n",
      "250/250 [==============================] - 65s 258ms/step - loss: 0.2402 - accuracy: 0.9007 - val_loss: 0.3818 - val_accuracy: 0.8530\n",
      "Epoch 29/100\n",
      "250/250 [==============================] - 67s 269ms/step - loss: 0.2338 - accuracy: 0.8976 - val_loss: 0.4517 - val_accuracy: 0.8505\n",
      "Epoch 30/100\n",
      "250/250 [==============================] - 66s 264ms/step - loss: 0.2381 - accuracy: 0.8992 - val_loss: 0.4283 - val_accuracy: 0.8435\n",
      "Epoch 31/100\n",
      "250/250 [==============================] - 60s 238ms/step - loss: 0.2375 - accuracy: 0.9004 - val_loss: 0.3870 - val_accuracy: 0.8475\n",
      "Epoch 32/100\n",
      "250/250 [==============================] - 60s 238ms/step - loss: 0.2179 - accuracy: 0.9078 - val_loss: 0.4980 - val_accuracy: 0.8360\n",
      "Epoch 33/100\n",
      "250/250 [==============================] - 59s 236ms/step - loss: 0.2247 - accuracy: 0.9061 - val_loss: 0.4475 - val_accuracy: 0.8440\n",
      "Epoch 34/100\n",
      "250/250 [==============================] - 59s 235ms/step - loss: 0.2084 - accuracy: 0.9151 - val_loss: 0.4367 - val_accuracy: 0.8530\n",
      "Epoch 35/100\n",
      "250/250 [==============================] - 59s 236ms/step - loss: 0.1989 - accuracy: 0.9186 - val_loss: 0.4722 - val_accuracy: 0.8380\n",
      "Epoch 36/100\n",
      "250/250 [==============================] - 59s 234ms/step - loss: 0.1930 - accuracy: 0.9178 - val_loss: 0.4657 - val_accuracy: 0.8495\n",
      "Epoch 37/100\n",
      "250/250 [==============================] - 58s 233ms/step - loss: 0.1915 - accuracy: 0.9194 - val_loss: 0.4857 - val_accuracy: 0.8500\n",
      "Epoch 38/100\n",
      "250/250 [==============================] - 59s 235ms/step - loss: 0.1960 - accuracy: 0.9202 - val_loss: 0.4880 - val_accuracy: 0.8325\n",
      "Epoch 39/100\n",
      "250/250 [==============================] - 59s 237ms/step - loss: 0.1823 - accuracy: 0.9265 - val_loss: 0.4757 - val_accuracy: 0.8545\n",
      "Epoch 40/100\n",
      "250/250 [==============================] - 60s 238ms/step - loss: 0.1893 - accuracy: 0.9235 - val_loss: 0.4632 - val_accuracy: 0.8435\n",
      "Epoch 41/100\n",
      "250/250 [==============================] - 59s 237ms/step - loss: 0.1824 - accuracy: 0.9270 - val_loss: 0.4595 - val_accuracy: 0.8390\n",
      "Epoch 42/100\n",
      "250/250 [==============================] - 58s 234ms/step - loss: 0.1756 - accuracy: 0.9261 - val_loss: 0.5226 - val_accuracy: 0.8505\n",
      "Epoch 43/100\n",
      "250/250 [==============================] - 62s 249ms/step - loss: 0.1782 - accuracy: 0.9293 - val_loss: 0.5695 - val_accuracy: 0.8255\n",
      "Epoch 44/100\n",
      "250/250 [==============================] - 66s 265ms/step - loss: 0.1670 - accuracy: 0.9324 - val_loss: 0.5274 - val_accuracy: 0.8505\n",
      "Epoch 45/100\n",
      "250/250 [==============================] - 65s 258ms/step - loss: 0.1611 - accuracy: 0.9345 - val_loss: 0.4886 - val_accuracy: 0.8420\n",
      "Epoch 46/100\n",
      "250/250 [==============================] - 63s 253ms/step - loss: 0.1521 - accuracy: 0.9392 - val_loss: 0.5189 - val_accuracy: 0.8485\n",
      "Epoch 47/100\n",
      "250/250 [==============================] - 64s 257ms/step - loss: 0.1504 - accuracy: 0.9396 - val_loss: 0.4718 - val_accuracy: 0.8540\n",
      "Epoch 48/100\n",
      "250/250 [==============================] - 64s 257ms/step - loss: 0.1504 - accuracy: 0.9415 - val_loss: 0.5719 - val_accuracy: 0.8245\n",
      "Epoch 49/100\n",
      "250/250 [==============================] - 66s 263ms/step - loss: 0.1517 - accuracy: 0.9341 - val_loss: 0.5151 - val_accuracy: 0.8525\n",
      "Epoch 50/100\n",
      "250/250 [==============================] - 59s 236ms/step - loss: 0.1418 - accuracy: 0.9436 - val_loss: 0.4707 - val_accuracy: 0.8520\n",
      "Epoch 51/100\n",
      "250/250 [==============================] - 58s 232ms/step - loss: 0.1426 - accuracy: 0.9416 - val_loss: 0.4788 - val_accuracy: 0.8500\n",
      "Epoch 52/100\n",
      "250/250 [==============================] - 59s 235ms/step - loss: 0.1475 - accuracy: 0.9435 - val_loss: 0.5568 - val_accuracy: 0.8475\n",
      "Epoch 53/100\n",
      "250/250 [==============================] - 58s 233ms/step - loss: 0.1481 - accuracy: 0.9419 - val_loss: 0.5339 - val_accuracy: 0.8435\n",
      "Epoch 54/100\n",
      "250/250 [==============================] - 59s 234ms/step - loss: 0.1330 - accuracy: 0.9439 - val_loss: 0.5265 - val_accuracy: 0.8515\n",
      "Epoch 55/100\n",
      "250/250 [==============================] - 58s 234ms/step - loss: 0.1432 - accuracy: 0.9450 - val_loss: 0.5515 - val_accuracy: 0.8490\n",
      "Epoch 56/100\n",
      "250/250 [==============================] - 59s 236ms/step - loss: 0.1310 - accuracy: 0.9491 - val_loss: 0.5198 - val_accuracy: 0.8515\n"
     ]
    },
    {
     "name": "stdout",
     "output_type": "stream",
     "text": [
      "Epoch 57/100\n",
      "250/250 [==============================] - 60s 238ms/step - loss: 0.1255 - accuracy: 0.9499 - val_loss: 0.6195 - val_accuracy: 0.8260\n",
      "Epoch 58/100\n",
      "250/250 [==============================] - 58s 233ms/step - loss: 0.1248 - accuracy: 0.9520 - val_loss: 0.6331 - val_accuracy: 0.8405\n",
      "Epoch 59/100\n",
      "250/250 [==============================] - 59s 236ms/step - loss: 0.1308 - accuracy: 0.9471 - val_loss: 0.5211 - val_accuracy: 0.8525\n",
      "Epoch 60/100\n",
      "250/250 [==============================] - 61s 243ms/step - loss: 0.1333 - accuracy: 0.9473 - val_loss: 0.5735 - val_accuracy: 0.8425\n",
      "Epoch 61/100\n",
      "250/250 [==============================] - 59s 235ms/step - loss: 0.1357 - accuracy: 0.9450 - val_loss: 0.7643 - val_accuracy: 0.8125\n",
      "Epoch 62/100\n",
      "250/250 [==============================] - 59s 236ms/step - loss: 0.1362 - accuracy: 0.9461 - val_loss: 0.5254 - val_accuracy: 0.8395\n",
      "Epoch 63/100\n",
      "250/250 [==============================] - 58s 234ms/step - loss: 0.1142 - accuracy: 0.9565 - val_loss: 0.5917 - val_accuracy: 0.8385\n",
      "Epoch 64/100\n",
      "250/250 [==============================] - 59s 235ms/step - loss: 0.1157 - accuracy: 0.9551 - val_loss: 0.6431 - val_accuracy: 0.8510\n",
      "Epoch 65/100\n",
      "250/250 [==============================] - 59s 235ms/step - loss: 0.1279 - accuracy: 0.9480 - val_loss: 0.5674 - val_accuracy: 0.8500\n",
      "Epoch 66/100\n",
      "250/250 [==============================] - 59s 236ms/step - loss: 0.1116 - accuracy: 0.9550 - val_loss: 0.5678 - val_accuracy: 0.8450\n",
      "Epoch 67/100\n",
      "250/250 [==============================] - 59s 235ms/step - loss: 0.1267 - accuracy: 0.9491 - val_loss: 0.6206 - val_accuracy: 0.8580\n",
      "Epoch 68/100\n",
      "250/250 [==============================] - 58s 232ms/step - loss: 0.1144 - accuracy: 0.9540 - val_loss: 0.5905 - val_accuracy: 0.8615\n",
      "Epoch 69/100\n",
      "250/250 [==============================] - 59s 236ms/step - loss: 0.1096 - accuracy: 0.9576 - val_loss: 0.6223 - val_accuracy: 0.8590\n",
      "Epoch 70/100\n",
      "250/250 [==============================] - 60s 238ms/step - loss: 0.1210 - accuracy: 0.9523 - val_loss: 0.6188 - val_accuracy: 0.8510\n",
      "Epoch 71/100\n",
      "250/250 [==============================] - 59s 235ms/step - loss: 0.1178 - accuracy: 0.9531 - val_loss: 0.5838 - val_accuracy: 0.8450\n",
      "Epoch 72/100\n",
      "250/250 [==============================] - 59s 236ms/step - loss: 0.1053 - accuracy: 0.9588 - val_loss: 0.7065 - val_accuracy: 0.8585\n",
      "Epoch 73/100\n",
      "250/250 [==============================] - 59s 234ms/step - loss: 0.1044 - accuracy: 0.9580 - val_loss: 0.7754 - val_accuracy: 0.8545\n",
      "Epoch 74/100\n",
      "250/250 [==============================] - 59s 238ms/step - loss: 0.1078 - accuracy: 0.9561 - val_loss: 0.6626 - val_accuracy: 0.8455\n",
      "Epoch 75/100\n",
      "250/250 [==============================] - 59s 235ms/step - loss: 0.0988 - accuracy: 0.9604 - val_loss: 0.6386 - val_accuracy: 0.8570\n",
      "Epoch 76/100\n",
      "250/250 [==============================] - 61s 242ms/step - loss: 0.1037 - accuracy: 0.9591 - val_loss: 0.6246 - val_accuracy: 0.8565\n",
      "Epoch 77/100\n",
      "250/250 [==============================] - 59s 235ms/step - loss: 0.1116 - accuracy: 0.9565 - val_loss: 0.5792 - val_accuracy: 0.8620\n",
      "Epoch 78/100\n",
      "250/250 [==============================] - 66s 262ms/step - loss: 0.1072 - accuracy: 0.9585 - val_loss: 0.6018 - val_accuracy: 0.8610\n",
      "Epoch 79/100\n",
      "250/250 [==============================] - 64s 257ms/step - loss: 0.0979 - accuracy: 0.9609 - val_loss: 0.6525 - val_accuracy: 0.8490\n",
      "Epoch 80/100\n",
      "250/250 [==============================] - 64s 258ms/step - loss: 0.0979 - accuracy: 0.9621 - val_loss: 0.6262 - val_accuracy: 0.8580\n",
      "Epoch 81/100\n",
      "250/250 [==============================] - 62s 249ms/step - loss: 0.1030 - accuracy: 0.9616 - val_loss: 0.5836 - val_accuracy: 0.8505\n",
      "Epoch 82/100\n",
      "250/250 [==============================] - 62s 247ms/step - loss: 0.0958 - accuracy: 0.9628 - val_loss: 0.6047 - val_accuracy: 0.8545\n",
      "Epoch 83/100\n",
      "250/250 [==============================] - 61s 245ms/step - loss: 0.0969 - accuracy: 0.9628 - val_loss: 0.7115 - val_accuracy: 0.8325\n",
      "Epoch 84/100\n",
      "250/250 [==============================] - 61s 245ms/step - loss: 0.1136 - accuracy: 0.9575 - val_loss: 0.5949 - val_accuracy: 0.8520\n",
      "Epoch 85/100\n",
      "250/250 [==============================] - 62s 248ms/step - loss: 0.0949 - accuracy: 0.9632 - val_loss: 0.7848 - val_accuracy: 0.8175\n",
      "Epoch 86/100\n",
      "250/250 [==============================] - 63s 253ms/step - loss: 0.1024 - accuracy: 0.9620 - val_loss: 0.5941 - val_accuracy: 0.8510\n",
      "Epoch 87/100\n",
      "250/250 [==============================] - 59s 238ms/step - loss: 0.1054 - accuracy: 0.9617 - val_loss: 0.6411 - val_accuracy: 0.8535\n",
      "Epoch 88/100\n",
      "250/250 [==============================] - 59s 237ms/step - loss: 0.0851 - accuracy: 0.9678 - val_loss: 0.6140 - val_accuracy: 0.8570\n",
      "Epoch 89/100\n",
      "250/250 [==============================] - 59s 236ms/step - loss: 0.0902 - accuracy: 0.9647 - val_loss: 0.5954 - val_accuracy: 0.8585\n",
      "Epoch 90/100\n",
      "250/250 [==============================] - 58s 233ms/step - loss: 0.0922 - accuracy: 0.9639 - val_loss: 0.5895 - val_accuracy: 0.8625\n",
      "Epoch 91/100\n",
      "250/250 [==============================] - 59s 235ms/step - loss: 0.0848 - accuracy: 0.9672 - val_loss: 0.6492 - val_accuracy: 0.8555\n",
      "Epoch 92/100\n",
      "250/250 [==============================] - 61s 242ms/step - loss: 0.0951 - accuracy: 0.9649 - val_loss: 0.5782 - val_accuracy: 0.8445\n",
      "Epoch 93/100\n",
      "250/250 [==============================] - 59s 235ms/step - loss: 0.0968 - accuracy: 0.9626 - val_loss: 0.6141 - val_accuracy: 0.8530\n",
      "Epoch 94/100\n",
      "250/250 [==============================] - 58s 234ms/step - loss: 0.0945 - accuracy: 0.9620 - val_loss: 0.6674 - val_accuracy: 0.8515\n",
      "Epoch 95/100\n",
      "250/250 [==============================] - 59s 235ms/step - loss: 0.0867 - accuracy: 0.9659 - val_loss: 0.7019 - val_accuracy: 0.8525\n",
      "Epoch 96/100\n",
      "250/250 [==============================] - 58s 233ms/step - loss: 0.0966 - accuracy: 0.9630 - val_loss: 0.8162 - val_accuracy: 0.8230\n",
      "Epoch 97/100\n",
      "250/250 [==============================] - 59s 235ms/step - loss: 0.0915 - accuracy: 0.9663 - val_loss: 0.6270 - val_accuracy: 0.8565\n",
      "Epoch 98/100\n",
      "250/250 [==============================] - 59s 236ms/step - loss: 0.0839 - accuracy: 0.9685 - val_loss: 0.6079 - val_accuracy: 0.8580\n",
      "Epoch 99/100\n",
      "250/250 [==============================] - 60s 240ms/step - loss: 0.0862 - accuracy: 0.9663 - val_loss: 0.6783 - val_accuracy: 0.8530\n",
      "Epoch 100/100\n",
      "250/250 [==============================] - 58s 234ms/step - loss: 0.0830 - accuracy: 0.9676 - val_loss: 0.6664 - val_accuracy: 0.8520\n"
     ]
    }
   ],
   "source": [
    "callbacks = [\n",
    "    tf.keras.callbacks.EarlyStopping(monitor='val_loss', min_delta = 0, patience=5),\n",
    "]                                                   \n",
    "                                                   \n",
    "history1 = classifier.fit(x=training_dataset,\n",
    "                         steps_per_epoch=8000/batch_size,\n",
    "                         epochs=100,\n",
    "                         validation_data=testing_dataset,\n",
    "                         validation_steps=2000/batch_size,\n",
    "                         workers=4) # \"Si pedimos más de un proceso el rendimiento mejora un poco\n"
   ]
  },
  {
   "cell_type": "markdown",
   "metadata": {},
   "source": [
    "Ploteamos el resultado"
   ]
  },
  {
   "cell_type": "code",
   "execution_count": 8,
   "metadata": {},
   "outputs": [
    {
     "data": {
      "image/png": "[encoded data removed]",
      "text/plain": [
       "<Figure size 1296x432 with 2 Axes>"
      ]
     },
     "metadata": {
      "needs_background": "light"
     },
     "output_type": "display_data"
    }
   ],
   "source": [
    "def plot_resultados_training(history):\n",
    "    fig, axes = plt.subplots(1,2, figsize=(18,6))\n",
    "    axes[0].plot(history.history['accuracy'], label='Train')\n",
    "    axes[0].plot(history.history['val_accuracy'], label='Validation')\n",
    "    axes[0].legend()\n",
    "    axes[0].set_title('Accuracy')\n",
    "    axes[1].plot(history.history['loss'], label='Train')\n",
    "    axes[1].plot(history.history['val_loss'], label='Validation')\n",
    "    axes[1].set_title('Cross entropy')\n",
    "\n",
    "plot_resultados_training(history1)"
   ]
  },
  {
   "cell_type": "code",
   "execution_count": 9,
   "metadata": {},
   "outputs": [
    {
     "name": "stdout",
     "output_type": "stream",
     "text": [
      "WARNING:tensorflow:From /home/llbernat/anaconda3/envs/musi-ap/lib/python3.7/site-packages/tensorflow/python/training/tracking/tracking.py:111: Model.state_updates (from tensorflow.python.keras.engine.training) is deprecated and will be removed in a future version.\n",
      "Instructions for updating:\n",
      "This property should not be used in TensorFlow 2.0, as updates are applied automatically.\n",
      "WARNING:tensorflow:From /home/llbernat/anaconda3/envs/musi-ap/lib/python3.7/site-packages/tensorflow/python/training/tracking/tracking.py:111: Layer.updates (from tensorflow.python.keras.engine.base_layer) is deprecated and will be removed in a future version.\n",
      "Instructions for updating:\n",
      "This property should not be used in TensorFlow 2.0, as updates are applied automatically.\n",
      "INFO:tensorflow:Assets written to: ./models/clasificador6/assets\n"
     ]
    }
   ],
   "source": [
    "classifier.save('./models/clasificador6')"
   ]
  },
  {
   "cell_type": "markdown",
   "metadata": {},
   "source": [
    "## Comentario\n",
    "En este intento hemos ampliado a tres capas de convolución con 32, 32 y 64 filtros de 3x3. \n",
    "El resultado ha sido esperanzador, pues hemos llegado a una precisón del 85.2% en validación. \n",
    "\n",
    "## Propuesta de mejora\n",
    "Los mejora de resultados en cuanto hemos *complicado* la arquitectura de las capas convolucionales \n",
    "nos hace pensar que quizás ese sea el camino. "
   ]
  }
 ],
 "metadata": {
  "accelerator": "GPU",
  "colab": {
   "name": "CNN.ipynb",
   "provenance": [],
   "toc_visible": true
  },
  "kernelspec": {
   "display_name": "Python 3",
   "language": "python",
   "name": "python3"
  },
  "language_info": {
   "codemirror_mode": {
    "name": "ipython",
    "version": 3
   },
   "file_extension": ".py",
   "mimetype": "text/x-python",
   "name": "python",
   "nbconvert_exporter": "python",
   "pygments_lexer": "ipython3",
   "version": "3.7.10"
  }
 },
 "nbformat": 4,
 "nbformat_minor": 4
}